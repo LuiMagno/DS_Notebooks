{
 "cells": [
  {
   "cell_type": "code",
   "execution_count": 5,
   "id": "d98f4283",
   "metadata": {},
   "outputs": [
    {
     "name": "stdout",
     "output_type": "stream",
     "text": [
      "Insira um número: 7\n",
      "140\n"
     ]
    }
   ],
   "source": [
    "valor = int(input(\"Insira um número: \"))\n",
    "resultado = 0;\n",
    "if valor <= 5:\n",
    "    resultado = valor * 10\n",
    "elif valor <= 10:\n",
    "    resultado = valor * 20\n",
    "else:\n",
    "    resultado = valor + 100\n",
    "print(resultado)"
   ]
  },
  {
   "cell_type": "code",
   "execution_count": 7,
   "id": "d4bb2ac7",
   "metadata": {},
   "outputs": [
    {
     "name": "stdout",
     "output_type": "stream",
     "text": [
      "Um valor foi removido da lista ( 1 )\n",
      "Um valor foi removido da lista ( 2 )\n",
      "Um valor foi removido da lista ( 3 )\n",
      "Um valor foi removido da lista ( 4 )\n",
      "Um valor foi removido da lista ( 5 )\n",
      "Um valor foi removido da lista ( 6 )\n",
      "Um valor foi removido da lista ( 7 )\n",
      "Um valor foi removido da lista ( 8 )\n",
      "Um valor foi removido da lista ( 9 )\n",
      "Um valor foi removido da lista ( 10 )\n",
      "Um valor foi removido da lista ( 11 )\n",
      "Um valor foi removido da lista ( 12 )\n",
      "Um valor foi removido da lista ( 13 )\n",
      "Um valor foi removido da lista ( 14 )\n",
      "Um valor foi removido da lista ( 15 )\n",
      "Um valor foi removido da lista ( 16 )\n",
      "Um valor foi removido da lista ( 17 )\n",
      "Um valor foi removido da lista ( 18 )\n",
      "Um valor foi removido da lista ( 19 )\n",
      "Um valor foi removido da lista ( 20 )\n",
      "Um valor foi removido da lista ( 21 )\n",
      "Um valor foi removido da lista ( 22 )\n",
      "Um valor foi removido da lista ( 23 )\n",
      "Um valor foi removido da lista ( 24 )\n",
      "Um valor foi removido da lista ( 25 )\n",
      "Um valor foi removido da lista ( 26 )\n",
      "Um valor foi removido da lista ( 27 )\n",
      "Um valor foi removido da lista ( 28 )\n",
      "Um valor foi removido da lista ( 29 )\n",
      "Um valor foi removido da lista ( 30 )\n",
      "Um valor foi removido da lista ( 31 )\n",
      "Um valor foi removido da lista ( 32 )\n",
      "Um valor foi removido da lista ( 33 )\n",
      "Um valor foi removido da lista ( 34 )\n",
      "Um valor foi removido da lista ( 35 )\n",
      "Um valor foi removido da lista ( 36 )\n",
      "Um valor foi removido da lista ( 37 )\n",
      "Um valor foi removido da lista ( 38 )\n",
      "Um valor foi removido da lista ( 39 )\n",
      "Um valor foi removido da lista ( 40 )\n",
      "Um valor foi removido da lista ( 41 )\n",
      "Um valor foi removido da lista ( 42 )\n",
      "Um valor foi removido da lista ( 43 )\n",
      "Um valor foi removido da lista ( 44 )\n",
      "Um valor foi removido da lista ( 45 )\n",
      "Um valor foi removido da lista ( 46 )\n",
      "Um valor foi removido da lista ( 47 )\n",
      "Um valor foi removido da lista ( 48 )\n",
      "Um valor foi removido da lista ( 49 )\n",
      "Um valor foi removido da lista ( 50 )\n",
      "Um valor foi removido da lista ( 51 )\n",
      "Um valor foi removido da lista ( 52 )\n"
     ]
    }
   ],
   "source": [
    "for x in range(1, 53):\n",
    "    print(\"Um valor foi removido da lista (\", x,\")\");"
   ]
  },
  {
   "cell_type": "code",
   "execution_count": 1,
   "id": "0de24f4b",
   "metadata": {},
   "outputs": [
    {
     "name": "stdout",
     "output_type": "stream",
     "text": [
      "1\n",
      "2\n",
      "3\n",
      "4\n",
      "5\n",
      "6\n",
      "7\n",
      "8\n",
      "[0.5, 1.0, 1.5, 2.0, 2.5, 3.0, 3.5, 4.0]\n",
      "[0.5, 2.0, 4.5, 8.0, 12.5, 18.0, 24.5, 32.0]\n"
     ]
    }
   ],
   "source": [
    "numeros = []\n",
    "pesos = []\n",
    "for x in range(8):\n",
    "    numero = (int(input()));\n",
    "    pesos.append((x+1)/2)\n",
    "    numeros.append(numero * pesos[x])\n",
    "    \n",
    "print(pesos)\n",
    "print(numeros)\n"
   ]
  },
  {
   "cell_type": "code",
   "execution_count": 7,
   "id": "219ecd73",
   "metadata": {},
   "outputs": [
    {
     "name": "stdout",
     "output_type": "stream",
     "text": [
      "Ïnsira um valor: 11\n",
      "O resultado é igual ao valor:  1100\n"
     ]
    }
   ],
   "source": [
    "valor = int(input(\"Ïnsira um valor: \"))\n",
    "resultado = 0\n",
    "if valor > 10:\n",
    "    resultado = valor * 100\n",
    "else:\n",
    "    resultado = valor + 10\n",
    "print(\"O resultado é igual ao valor: \", resultado)"
   ]
  },
  {
   "cell_type": "code",
   "execution_count": 3,
   "id": "f92225ad",
   "metadata": {},
   "outputs": [
    {
     "name": "stdout",
     "output_type": "stream",
     "text": [
      "Ïnsira sua idade: 12\n",
      "Você tem 12 anos de idade, portanto é menor de idade\n"
     ]
    }
   ],
   "source": [
    "idade = int(input(\"Ïnsira sua idade: \"))\n",
    "if idade >= 18:\n",
    "    print(f'Você tem {idade} anos de idade, portanto é maior de idade')\n",
    "else:\n",
    "    print(f'Você tem {idade} anos de idade, portanto é menor de idade')"
   ]
  },
  {
   "cell_type": "code",
   "execution_count": 11,
   "id": "ac4839b1",
   "metadata": {},
   "outputs": [
    {
     "name": "stdout",
     "output_type": "stream",
     "text": [
      "100\n",
      "15\n",
      "1\n",
      "[100, 15, 1] 100 1\n"
     ]
    }
   ],
   "source": [
    "numero1 = int(input())\n",
    "numero2 = int(input())\n",
    "numero3 = int(input())\n",
    "\n",
    "numeros = [numero1, numero2, numero3]\n",
    "maiorNumero = 0\n",
    "menorNumero = 0\n",
    "for x in range(len(numeros)):\n",
    "    if x == 0:\n",
    "        maiorNumero = numeros[x]\n",
    "        menorNumero = numeros[x]\n",
    "    if numeros[x] > maiorNumero:\n",
    "        maiorNumero = numeros[x]\n",
    "    if numeros[x] < menorNumero:\n",
    "        menorNumero = numeros[x]\n",
    "        \n",
    "print(numeros, maiorNumero, menorNumero)"
   ]
  },
  {
   "cell_type": "code",
   "execution_count": 10,
   "id": "012ddcef",
   "metadata": {},
   "outputs": [
    {
     "name": "stdout",
     "output_type": "stream",
     "text": [
      "10\n",
      "22\n",
      "33\n"
     ]
    }
   ],
   "source": [
    "numeros = [10,22,33]\n",
    "for x in range(len(numeros)):\n",
    "    print(numeros[x])"
   ]
  },
  {
   "cell_type": "code",
   "execution_count": 6,
   "id": "ed128686",
   "metadata": {},
   "outputs": [
    {
     "name": "stdout",
     "output_type": "stream",
     "text": [
      "3.8135593220338984\n"
     ]
    }
   ],
   "source": [
    "numeros = [2,3,5,6,9]\n",
    "\n",
    "numerador = len(numeros)\n",
    "denominador = 0\n",
    "for x in numeros:\n",
    "    denominador += 1/x\n",
    "print(numerador/denominador)"
   ]
  },
  {
   "cell_type": "code",
   "execution_count": 9,
   "id": "adcb0606",
   "metadata": {},
   "outputs": [
    {
     "name": "stdout",
     "output_type": "stream",
     "text": [
      "4.0\n",
      "2.0\n"
     ]
    }
   ],
   "source": [
    "numeros = [7, 9, 10, 11, 13]\n",
    "soma = 0\n",
    "for x in numeros:\n",
    "    soma += x\n",
    "media = soma/len(numeros)\n",
    "for x in range(len(numeros)):\n",
    "    numeros[x] = (numeros[x] - media)**2\n",
    "    \n",
    "soma2 = 0\n",
    "for x in numeros:\n",
    "    soma2 += x\n",
    "mediaVariancia = soma2/len(numeros)\n",
    "\n",
    "print(mediaVariancia)\n",
    "desvioPadrao = mediaVariancia**(1/2)\n",
    "print(desvioPadrao)"
   ]
  },
  {
   "cell_type": "code",
   "execution_count": 15,
   "id": "0fb5ff3a",
   "metadata": {},
   "outputs": [
    {
     "name": "stdout",
     "output_type": "stream",
     "text": [
      "0\n",
      "Um valor foi removido da lista\n",
      "\n",
      "1\n",
      "Um valor foi removido da lista\n",
      "\n",
      "2\n",
      "Um valor foi removido da lista\n",
      "\n",
      "3\n",
      "Um valor foi removido da lista\n",
      "\n",
      "4\n",
      "Um valor foi removido da lista\n",
      "\n",
      "5\n",
      "Um valor foi removido da lista\n",
      "\n",
      "6\n",
      "Um valor foi removido da lista\n",
      "\n",
      "7\n",
      "Um valor foi removido da lista\n",
      "\n",
      "8\n",
      "Um valor foi removido da lista\n",
      "\n",
      "9\n",
      "Um valor foi removido da lista\n",
      "\n",
      "10\n",
      "Um valor foi removido da lista\n",
      "\n",
      "11\n",
      "Um valor foi removido da lista\n",
      "\n",
      "12\n",
      "Um valor foi removido da lista\n",
      "\n",
      "13\n",
      "Um valor foi removido da lista\n",
      "\n",
      "14\n",
      "Um valor foi removido da lista\n",
      "\n",
      "15\n",
      "Um valor foi removido da lista\n",
      "\n",
      "16\n",
      "Um valor foi removido da lista\n",
      "\n",
      "17\n",
      "Um valor foi removido da lista\n",
      "\n",
      "18\n",
      "Um valor foi removido da lista\n",
      "\n",
      "19\n",
      "Um valor foi removido da lista\n",
      "\n",
      "20\n",
      "Um valor foi removido da lista\n",
      "\n",
      "21\n",
      "Um valor foi removido da lista\n",
      "\n",
      "22\n",
      "Um valor foi removido da lista\n",
      "\n",
      "23\n",
      "Um valor foi removido da lista\n",
      "\n",
      "24\n",
      "Um valor foi removido da lista\n",
      "\n",
      "25\n",
      "Um valor foi removido da lista\n",
      "\n",
      "26\n",
      "Um valor foi removido da lista\n",
      "\n",
      "27\n",
      "Um valor foi removido da lista\n",
      "\n",
      "28\n",
      "Um valor foi removido da lista\n",
      "\n",
      "29\n",
      "Um valor foi removido da lista\n",
      "\n",
      "30\n",
      "Um valor foi removido da lista\n",
      "\n",
      "31\n",
      "Um valor foi removido da lista\n",
      "\n",
      "32\n",
      "Um valor foi removido da lista\n",
      "\n",
      "33\n",
      "Um valor foi removido da lista\n",
      "\n",
      "34\n",
      "Um valor foi removido da lista\n",
      "\n",
      "35\n",
      "Um valor foi removido da lista\n",
      "\n",
      "36\n",
      "Um valor foi removido da lista\n",
      "\n",
      "37\n",
      "Um valor foi removido da lista\n",
      "\n",
      "38\n",
      "Um valor foi removido da lista\n",
      "\n",
      "39\n",
      "Um valor foi removido da lista\n",
      "\n",
      "40\n",
      "Um valor foi removido da lista\n",
      "\n",
      "41\n",
      "Um valor foi removido da lista\n",
      "\n",
      "42\n",
      "Um valor foi removido da lista\n",
      "\n",
      "43\n",
      "Um valor foi removido da lista\n",
      "\n",
      "44\n",
      "Um valor foi removido da lista\n",
      "\n",
      "45\n",
      "Um valor foi removido da lista\n",
      "\n",
      "46\n",
      "Um valor foi removido da lista\n",
      "\n",
      "47\n",
      "Um valor foi removido da lista\n",
      "\n",
      "48\n",
      "Um valor foi removido da lista\n",
      "\n",
      "49\n",
      "Um valor foi removido da lista\n",
      "\n",
      "50\n",
      "Um valor foi removido da lista\n",
      "\n",
      "Quantidade de elementos na lista\n"
     ]
    },
    {
     "data": {
      "text/plain": [
       "51"
      ]
     },
     "execution_count": 15,
     "metadata": {},
     "output_type": "execute_result"
    }
   ],
   "source": [
    "lista = []\n",
    "\n",
    "for valor in range(51):\n",
    "  print(valor)\n",
    "  print('Um valor foi removido da lista')\n",
    "  lista.append(valor)\n",
    "\n",
    "  print()\n",
    "\n",
    "print('Quantidade de elementos na lista')\n",
    "len(lista)"
   ]
  },
  {
   "cell_type": "markdown",
   "id": "db28bd64",
   "metadata": {},
   "source": [
    "Big Boca -> Caso de Negócio"
   ]
  },
  {
   "cell_type": "code",
   "execution_count": 38,
   "id": "197cc336",
   "metadata": {},
   "outputs": [
    {
     "name": "stdout",
     "output_type": "stream",
     "text": [
      "[0.1, 0.2, 0.36, 0.41000000000000003, 0.5, 0.76, 0.95]\n"
     ]
    }
   ],
   "source": [
    "dias_semana = list(range(1, 8))\n",
    "desconto_base = [0.10, 0.20, 0.30, 0.40, 0.50, 0.60, 0.70]\n",
    "previsao_pedidos = [400, 100, 3600, 4100, 4900, 7600, 9500]\n",
    "descontos_finais = []\n",
    "for dia in dias_semana:\n",
    "    pedido_base = 1000 * dia\n",
    "    if previsao_pedidos[dia-1] > (pedido_base):\n",
    "        desconto_final = (previsao_pedidos[dia-1] - pedido_base)/100/100 + desconto_base[dia-1]\n",
    "        descontos_finais.append(desconto_final)\n",
    "    else:\n",
    "        descontos_finais.append(desconto_base[dia-1])\n",
    "\n",
    "print(descontos_finais)"
   ]
  },
  {
   "cell_type": "code",
   "execution_count": null,
   "id": "c25ab403",
   "metadata": {},
   "outputs": [],
   "source": []
  }
 ],
 "metadata": {
  "kernelspec": {
   "display_name": "Python 3 (ipykernel)",
   "language": "python",
   "name": "python3"
  },
  "language_info": {
   "codemirror_mode": {
    "name": "ipython",
    "version": 3
   },
   "file_extension": ".py",
   "mimetype": "text/x-python",
   "name": "python",
   "nbconvert_exporter": "python",
   "pygments_lexer": "ipython3",
   "version": "3.10.9"
  }
 },
 "nbformat": 4,
 "nbformat_minor": 5
}
