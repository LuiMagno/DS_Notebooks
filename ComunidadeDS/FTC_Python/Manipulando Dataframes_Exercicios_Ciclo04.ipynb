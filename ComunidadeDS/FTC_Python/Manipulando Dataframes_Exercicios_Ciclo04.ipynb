{
 "cells": [
  {
   "cell_type": "code",
   "execution_count": 1,
   "id": "de0c2e78",
   "metadata": {},
   "outputs": [
    {
     "data": {
      "text/html": [
       "<div>\n",
       "<style scoped>\n",
       "    .dataframe tbody tr th:only-of-type {\n",
       "        vertical-align: middle;\n",
       "    }\n",
       "\n",
       "    .dataframe tbody tr th {\n",
       "        vertical-align: top;\n",
       "    }\n",
       "\n",
       "    .dataframe thead th {\n",
       "        text-align: right;\n",
       "    }\n",
       "</style>\n",
       "<table border=\"1\" class=\"dataframe\">\n",
       "  <thead>\n",
       "    <tr style=\"text-align: right;\">\n",
       "      <th></th>\n",
       "      <th>ID</th>\n",
       "      <th>Delivery_person_ID</th>\n",
       "      <th>Delivery_person_Age</th>\n",
       "      <th>Delivery_person_Ratings</th>\n",
       "      <th>Restaurant_latitude</th>\n",
       "      <th>Restaurant_longitude</th>\n",
       "      <th>Delivery_location_latitude</th>\n",
       "      <th>Delivery_location_longitude</th>\n",
       "      <th>Order_Date</th>\n",
       "      <th>Time_Orderd</th>\n",
       "      <th>Time_Order_picked</th>\n",
       "      <th>Weatherconditions</th>\n",
       "      <th>Road_traffic_density</th>\n",
       "      <th>Vehicle_condition</th>\n",
       "      <th>Type_of_order</th>\n",
       "      <th>Type_of_vehicle</th>\n",
       "      <th>multiple_deliveries</th>\n",
       "      <th>Festival</th>\n",
       "      <th>City</th>\n",
       "      <th>Time_taken(min)</th>\n",
       "    </tr>\n",
       "  </thead>\n",
       "  <tbody>\n",
       "    <tr>\n",
       "      <th>0</th>\n",
       "      <td>0x4607</td>\n",
       "      <td>INDORES13DEL02</td>\n",
       "      <td>37</td>\n",
       "      <td>4.9</td>\n",
       "      <td>22.745049</td>\n",
       "      <td>75.892471</td>\n",
       "      <td>22.765049</td>\n",
       "      <td>75.912471</td>\n",
       "      <td>19-03-2022</td>\n",
       "      <td>11:30:00</td>\n",
       "      <td>11:45:00</td>\n",
       "      <td>conditions Sunny</td>\n",
       "      <td>High</td>\n",
       "      <td>2</td>\n",
       "      <td>Snack</td>\n",
       "      <td>motorcycle</td>\n",
       "      <td>0</td>\n",
       "      <td>No</td>\n",
       "      <td>Urban</td>\n",
       "      <td>(min) 24</td>\n",
       "    </tr>\n",
       "    <tr>\n",
       "      <th>1</th>\n",
       "      <td>0xb379</td>\n",
       "      <td>BANGRES18DEL02</td>\n",
       "      <td>34</td>\n",
       "      <td>4.5</td>\n",
       "      <td>12.913041</td>\n",
       "      <td>77.683237</td>\n",
       "      <td>13.043041</td>\n",
       "      <td>77.813237</td>\n",
       "      <td>25-03-2022</td>\n",
       "      <td>19:45:00</td>\n",
       "      <td>19:50:00</td>\n",
       "      <td>conditions Stormy</td>\n",
       "      <td>Jam</td>\n",
       "      <td>2</td>\n",
       "      <td>Snack</td>\n",
       "      <td>scooter</td>\n",
       "      <td>1</td>\n",
       "      <td>No</td>\n",
       "      <td>Metropolitian</td>\n",
       "      <td>(min) 33</td>\n",
       "    </tr>\n",
       "    <tr>\n",
       "      <th>2</th>\n",
       "      <td>0x5d6d</td>\n",
       "      <td>BANGRES19DEL01</td>\n",
       "      <td>23</td>\n",
       "      <td>4.4</td>\n",
       "      <td>12.914264</td>\n",
       "      <td>77.678400</td>\n",
       "      <td>12.924264</td>\n",
       "      <td>77.688400</td>\n",
       "      <td>19-03-2022</td>\n",
       "      <td>08:30:00</td>\n",
       "      <td>08:45:00</td>\n",
       "      <td>conditions Sandstorms</td>\n",
       "      <td>Low</td>\n",
       "      <td>0</td>\n",
       "      <td>Drinks</td>\n",
       "      <td>motorcycle</td>\n",
       "      <td>1</td>\n",
       "      <td>No</td>\n",
       "      <td>Urban</td>\n",
       "      <td>(min) 26</td>\n",
       "    </tr>\n",
       "    <tr>\n",
       "      <th>3</th>\n",
       "      <td>0x7a6a</td>\n",
       "      <td>COIMBRES13DEL02</td>\n",
       "      <td>38</td>\n",
       "      <td>4.7</td>\n",
       "      <td>11.003669</td>\n",
       "      <td>76.976494</td>\n",
       "      <td>11.053669</td>\n",
       "      <td>77.026494</td>\n",
       "      <td>05-04-2022</td>\n",
       "      <td>18:00:00</td>\n",
       "      <td>18:10:00</td>\n",
       "      <td>conditions Sunny</td>\n",
       "      <td>Medium</td>\n",
       "      <td>0</td>\n",
       "      <td>Buffet</td>\n",
       "      <td>motorcycle</td>\n",
       "      <td>1</td>\n",
       "      <td>No</td>\n",
       "      <td>Metropolitian</td>\n",
       "      <td>(min) 21</td>\n",
       "    </tr>\n",
       "    <tr>\n",
       "      <th>4</th>\n",
       "      <td>0x70a2</td>\n",
       "      <td>CHENRES12DEL01</td>\n",
       "      <td>32</td>\n",
       "      <td>4.6</td>\n",
       "      <td>12.972793</td>\n",
       "      <td>80.249982</td>\n",
       "      <td>13.012793</td>\n",
       "      <td>80.289982</td>\n",
       "      <td>26-03-2022</td>\n",
       "      <td>13:30:00</td>\n",
       "      <td>13:45:00</td>\n",
       "      <td>conditions Cloudy</td>\n",
       "      <td>High</td>\n",
       "      <td>1</td>\n",
       "      <td>Snack</td>\n",
       "      <td>scooter</td>\n",
       "      <td>1</td>\n",
       "      <td>No</td>\n",
       "      <td>Metropolitian</td>\n",
       "      <td>(min) 30</td>\n",
       "    </tr>\n",
       "  </tbody>\n",
       "</table>\n",
       "</div>"
      ],
      "text/plain": [
       "        ID Delivery_person_ID Delivery_person_Age Delivery_person_Ratings  \\\n",
       "0  0x4607     INDORES13DEL02                   37                     4.9   \n",
       "1  0xb379     BANGRES18DEL02                   34                     4.5   \n",
       "2  0x5d6d     BANGRES19DEL01                   23                     4.4   \n",
       "3  0x7a6a    COIMBRES13DEL02                   38                     4.7   \n",
       "4  0x70a2     CHENRES12DEL01                   32                     4.6   \n",
       "\n",
       "   Restaurant_latitude  Restaurant_longitude  Delivery_location_latitude  \\\n",
       "0            22.745049             75.892471                   22.765049   \n",
       "1            12.913041             77.683237                   13.043041   \n",
       "2            12.914264             77.678400                   12.924264   \n",
       "3            11.003669             76.976494                   11.053669   \n",
       "4            12.972793             80.249982                   13.012793   \n",
       "\n",
       "   Delivery_location_longitude  Order_Date Time_Orderd Time_Order_picked  \\\n",
       "0                    75.912471  19-03-2022    11:30:00          11:45:00   \n",
       "1                    77.813237  25-03-2022    19:45:00          19:50:00   \n",
       "2                    77.688400  19-03-2022    08:30:00          08:45:00   \n",
       "3                    77.026494  05-04-2022    18:00:00          18:10:00   \n",
       "4                    80.289982  26-03-2022    13:30:00          13:45:00   \n",
       "\n",
       "       Weatherconditions Road_traffic_density  Vehicle_condition  \\\n",
       "0       conditions Sunny                High                   2   \n",
       "1      conditions Stormy                 Jam                   2   \n",
       "2  conditions Sandstorms                 Low                   0   \n",
       "3       conditions Sunny              Medium                   0   \n",
       "4      conditions Cloudy                High                   1   \n",
       "\n",
       "  Type_of_order Type_of_vehicle multiple_deliveries Festival            City  \\\n",
       "0        Snack      motorcycle                    0      No           Urban    \n",
       "1        Snack         scooter                    1      No   Metropolitian    \n",
       "2       Drinks      motorcycle                    1      No           Urban    \n",
       "3       Buffet      motorcycle                    1      No   Metropolitian    \n",
       "4        Snack         scooter                    1      No   Metropolitian    \n",
       "\n",
       "  Time_taken(min)  \n",
       "0        (min) 24  \n",
       "1        (min) 33  \n",
       "2        (min) 26  \n",
       "3        (min) 21  \n",
       "4        (min) 30  "
      ]
     },
     "execution_count": 1,
     "metadata": {},
     "output_type": "execute_result"
    }
   ],
   "source": [
    "import pandas as pd\n",
    "\n",
    "df = pd.read_csv('C:/Users/lui-m/Documents/GitHub/DS_Notebooks/ComunidadeDS/FTC_Python/datasets/train.csv')\n",
    "df.head()"
   ]
  },
  {
   "cell_type": "markdown",
   "id": "f2b16a80",
   "metadata": {},
   "source": [
    "### 1. Qual o valor da informação armazenada na linha 30 e na coluna 10?"
   ]
  },
  {
   "cell_type": "code",
   "execution_count": 2,
   "id": "e84ddd27",
   "metadata": {},
   "outputs": [
    {
     "data": {
      "text/plain": [
       "'22:40:00'"
      ]
     },
     "execution_count": 2,
     "metadata": {},
     "output_type": "execute_result"
    }
   ],
   "source": [
    "df.iloc[30, 10]"
   ]
  },
  {
   "cell_type": "markdown",
   "id": "dba764fb",
   "metadata": {},
   "source": [
    "### 2. Selecione as linhas 0 a 20 e as colunas 0 a 2"
   ]
  },
  {
   "cell_type": "code",
   "execution_count": 3,
   "id": "821e3a51",
   "metadata": {},
   "outputs": [
    {
     "data": {
      "text/html": [
       "<div>\n",
       "<style scoped>\n",
       "    .dataframe tbody tr th:only-of-type {\n",
       "        vertical-align: middle;\n",
       "    }\n",
       "\n",
       "    .dataframe tbody tr th {\n",
       "        vertical-align: top;\n",
       "    }\n",
       "\n",
       "    .dataframe thead th {\n",
       "        text-align: right;\n",
       "    }\n",
       "</style>\n",
       "<table border=\"1\" class=\"dataframe\">\n",
       "  <thead>\n",
       "    <tr style=\"text-align: right;\">\n",
       "      <th></th>\n",
       "      <th>ID</th>\n",
       "      <th>Delivery_person_ID</th>\n",
       "      <th>Delivery_person_Age</th>\n",
       "    </tr>\n",
       "  </thead>\n",
       "  <tbody>\n",
       "    <tr>\n",
       "      <th>0</th>\n",
       "      <td>0x4607</td>\n",
       "      <td>INDORES13DEL02</td>\n",
       "      <td>37</td>\n",
       "    </tr>\n",
       "    <tr>\n",
       "      <th>1</th>\n",
       "      <td>0xb379</td>\n",
       "      <td>BANGRES18DEL02</td>\n",
       "      <td>34</td>\n",
       "    </tr>\n",
       "    <tr>\n",
       "      <th>2</th>\n",
       "      <td>0x5d6d</td>\n",
       "      <td>BANGRES19DEL01</td>\n",
       "      <td>23</td>\n",
       "    </tr>\n",
       "    <tr>\n",
       "      <th>3</th>\n",
       "      <td>0x7a6a</td>\n",
       "      <td>COIMBRES13DEL02</td>\n",
       "      <td>38</td>\n",
       "    </tr>\n",
       "    <tr>\n",
       "      <th>4</th>\n",
       "      <td>0x70a2</td>\n",
       "      <td>CHENRES12DEL01</td>\n",
       "      <td>32</td>\n",
       "    </tr>\n",
       "    <tr>\n",
       "      <th>5</th>\n",
       "      <td>0x9bb4</td>\n",
       "      <td>HYDRES09DEL03</td>\n",
       "      <td>22</td>\n",
       "    </tr>\n",
       "    <tr>\n",
       "      <th>6</th>\n",
       "      <td>0x95b4</td>\n",
       "      <td>RANCHIRES15DEL01</td>\n",
       "      <td>33</td>\n",
       "    </tr>\n",
       "    <tr>\n",
       "      <th>7</th>\n",
       "      <td>0x9eb2</td>\n",
       "      <td>MYSRES15DEL02</td>\n",
       "      <td>35</td>\n",
       "    </tr>\n",
       "    <tr>\n",
       "      <th>8</th>\n",
       "      <td>0x1102</td>\n",
       "      <td>HYDRES05DEL02</td>\n",
       "      <td>22</td>\n",
       "    </tr>\n",
       "    <tr>\n",
       "      <th>9</th>\n",
       "      <td>0xcdcd</td>\n",
       "      <td>DEHRES17DEL01</td>\n",
       "      <td>36</td>\n",
       "    </tr>\n",
       "    <tr>\n",
       "      <th>10</th>\n",
       "      <td>0xd987</td>\n",
       "      <td>KOCRES16DEL01</td>\n",
       "      <td>21</td>\n",
       "    </tr>\n",
       "    <tr>\n",
       "      <th>11</th>\n",
       "      <td>0x2784</td>\n",
       "      <td>PUNERES13DEL03</td>\n",
       "      <td>23</td>\n",
       "    </tr>\n",
       "    <tr>\n",
       "      <th>12</th>\n",
       "      <td>0xc8b6</td>\n",
       "      <td>LUDHRES15DEL02</td>\n",
       "      <td>34</td>\n",
       "    </tr>\n",
       "    <tr>\n",
       "      <th>13</th>\n",
       "      <td>0xdb64</td>\n",
       "      <td>KNPRES14DEL02</td>\n",
       "      <td>24</td>\n",
       "    </tr>\n",
       "    <tr>\n",
       "      <th>14</th>\n",
       "      <td>0x3af3</td>\n",
       "      <td>MUMRES15DEL03</td>\n",
       "      <td>29</td>\n",
       "    </tr>\n",
       "    <tr>\n",
       "      <th>15</th>\n",
       "      <td>0x3aab</td>\n",
       "      <td>MYSRES01DEL01</td>\n",
       "      <td>35</td>\n",
       "    </tr>\n",
       "    <tr>\n",
       "      <th>16</th>\n",
       "      <td>0x689b</td>\n",
       "      <td>PUNERES20DEL01</td>\n",
       "      <td>33</td>\n",
       "    </tr>\n",
       "    <tr>\n",
       "      <th>17</th>\n",
       "      <td>0x6f67</td>\n",
       "      <td>HYDRES14DEL01</td>\n",
       "      <td>34</td>\n",
       "    </tr>\n",
       "    <tr>\n",
       "      <th>18</th>\n",
       "      <td>0xc9cf</td>\n",
       "      <td>KOLRES15DEL03</td>\n",
       "      <td>21</td>\n",
       "    </tr>\n",
       "    <tr>\n",
       "      <th>19</th>\n",
       "      <td>0x36b8</td>\n",
       "      <td>PUNERES19DEL02</td>\n",
       "      <td>25</td>\n",
       "    </tr>\n",
       "    <tr>\n",
       "      <th>20</th>\n",
       "      <td>0x5795</td>\n",
       "      <td>RANCHIRES06DEL02</td>\n",
       "      <td>31</td>\n",
       "    </tr>\n",
       "  </tbody>\n",
       "</table>\n",
       "</div>"
      ],
      "text/plain": [
       "         ID Delivery_person_ID Delivery_person_Age\n",
       "0   0x4607     INDORES13DEL02                   37\n",
       "1   0xb379     BANGRES18DEL02                   34\n",
       "2   0x5d6d     BANGRES19DEL01                   23\n",
       "3   0x7a6a    COIMBRES13DEL02                   38\n",
       "4   0x70a2     CHENRES12DEL01                   32\n",
       "5   0x9bb4      HYDRES09DEL03                   22\n",
       "6   0x95b4   RANCHIRES15DEL01                   33\n",
       "7   0x9eb2      MYSRES15DEL02                   35\n",
       "8   0x1102      HYDRES05DEL02                   22\n",
       "9   0xcdcd      DEHRES17DEL01                   36\n",
       "10  0xd987      KOCRES16DEL01                   21\n",
       "11  0x2784     PUNERES13DEL03                   23\n",
       "12  0xc8b6     LUDHRES15DEL02                   34\n",
       "13  0xdb64      KNPRES14DEL02                   24\n",
       "14  0x3af3      MUMRES15DEL03                   29\n",
       "15  0x3aab      MYSRES01DEL01                   35\n",
       "16  0x689b     PUNERES20DEL01                   33\n",
       "17  0x6f67      HYDRES14DEL01                   34\n",
       "18  0xc9cf      KOLRES15DEL03                   21\n",
       "19  0x36b8     PUNERES19DEL02                   25\n",
       "20  0x5795   RANCHIRES06DEL02                   31"
      ]
     },
     "execution_count": 3,
     "metadata": {},
     "output_type": "execute_result"
    }
   ],
   "source": [
    "df.iloc[0:21, 0:3]"
   ]
  },
  {
   "cell_type": "markdown",
   "id": "61914c2a",
   "metadata": {},
   "source": [
    "### 3. Seleciona as linhas 5 a 30 e a coluna “Delivery_person_Age”"
   ]
  },
  {
   "cell_type": "code",
   "execution_count": 4,
   "id": "21e6faa6",
   "metadata": {},
   "outputs": [
    {
     "data": {
      "text/plain": [
       "5     22\n",
       "6     33\n",
       "7     35\n",
       "8     22\n",
       "9     36\n",
       "10    21\n",
       "11    23\n",
       "12    34\n",
       "13    24\n",
       "14    29\n",
       "15    35\n",
       "16    33\n",
       "17    34\n",
       "18    21\n",
       "19    25\n",
       "20    31\n",
       "21    37\n",
       "22    33\n",
       "23    25\n",
       "24    29\n",
       "25    27\n",
       "26    35\n",
       "27    32\n",
       "28    23\n",
       "29    31\n",
       "30    36\n",
       "Name: Delivery_person_Age, dtype: object"
      ]
     },
     "execution_count": 4,
     "metadata": {},
     "output_type": "execute_result"
    }
   ],
   "source": [
    "df.loc[5:30, \"Delivery_person_Age\"]"
   ]
  },
  {
   "cell_type": "markdown",
   "id": "254afbc7",
   "metadata": {},
   "source": [
    "### 4. Selecione as linhas 40 a 42 e as seguintes colunas: “Restaurant_latitude”, “Restaurant_longitude”, \"Delivery_location_latitude”, “Delivery_location_longitude”"
   ]
  },
  {
   "cell_type": "code",
   "execution_count": 5,
   "id": "c5ff813b",
   "metadata": {},
   "outputs": [
    {
     "data": {
      "text/html": [
       "<div>\n",
       "<style scoped>\n",
       "    .dataframe tbody tr th:only-of-type {\n",
       "        vertical-align: middle;\n",
       "    }\n",
       "\n",
       "    .dataframe tbody tr th {\n",
       "        vertical-align: top;\n",
       "    }\n",
       "\n",
       "    .dataframe thead th {\n",
       "        text-align: right;\n",
       "    }\n",
       "</style>\n",
       "<table border=\"1\" class=\"dataframe\">\n",
       "  <thead>\n",
       "    <tr style=\"text-align: right;\">\n",
       "      <th></th>\n",
       "      <th>Restaurant_latitude</th>\n",
       "      <th>Restaurant_longitude</th>\n",
       "      <th>Delivery_location_latitude</th>\n",
       "      <th>Delivery_location_longitude</th>\n",
       "    </tr>\n",
       "  </thead>\n",
       "  <tbody>\n",
       "    <tr>\n",
       "      <th>40</th>\n",
       "      <td>12.972532</td>\n",
       "      <td>77.608179</td>\n",
       "      <td>13.042532</td>\n",
       "      <td>77.678179</td>\n",
       "    </tr>\n",
       "    <tr>\n",
       "      <th>41</th>\n",
       "      <td>13.064181</td>\n",
       "      <td>80.236442</td>\n",
       "      <td>13.134181</td>\n",
       "      <td>80.306442</td>\n",
       "    </tr>\n",
       "    <tr>\n",
       "      <th>42</th>\n",
       "      <td>19.121999</td>\n",
       "      <td>72.908493</td>\n",
       "      <td>19.201999</td>\n",
       "      <td>72.988493</td>\n",
       "    </tr>\n",
       "  </tbody>\n",
       "</table>\n",
       "</div>"
      ],
      "text/plain": [
       "    Restaurant_latitude  Restaurant_longitude  Delivery_location_latitude  \\\n",
       "40            12.972532             77.608179                   13.042532   \n",
       "41            13.064181             80.236442                   13.134181   \n",
       "42            19.121999             72.908493                   19.201999   \n",
       "\n",
       "    Delivery_location_longitude  \n",
       "40                    77.678179  \n",
       "41                    80.306442  \n",
       "42                    72.988493  "
      ]
     },
     "execution_count": 5,
     "metadata": {},
     "output_type": "execute_result"
    }
   ],
   "source": [
    "df.loc[40:42, ['Restaurant_latitude', 'Restaurant_longitude', 'Delivery_location_latitude', 'Delivery_location_longitude']]"
   ]
  },
  {
   "cell_type": "markdown",
   "id": "05e1a038",
   "metadata": {},
   "source": [
    "### 5. Qual a menor data de entrega da coluna “Order_Date” entre as linhas 0 a 50?\n"
   ]
  },
  {
   "cell_type": "code",
   "execution_count": 6,
   "id": "b6bd90bc",
   "metadata": {},
   "outputs": [
    {
     "data": {
      "text/plain": [
       "Timestamp('2022-02-11 00:00:00')"
      ]
     },
     "execution_count": 6,
     "metadata": {},
     "output_type": "execute_result"
    }
   ],
   "source": [
    "df['Order_Date'] = pd.to_datetime(df['Order_Date'], format='%d-%m-%Y')\n",
    "df.loc[0:50, 'Order_Date'].min()"
   ]
  },
  {
   "cell_type": "markdown",
   "id": "2382d154",
   "metadata": {},
   "source": [
    "### 6. Qual a menor data de entrega da coluna “ Time_Orderd ” entre as linhas 0 a 50?\n"
   ]
  },
  {
   "cell_type": "code",
   "execution_count": 7,
   "id": "dbdcd9ee",
   "metadata": {},
   "outputs": [
    {
     "data": {
      "text/plain": [
       "'08:15:00'"
      ]
     },
     "execution_count": 7,
     "metadata": {},
     "output_type": "execute_result"
    }
   ],
   "source": [
    "df.loc[0:50, 'Time_Orderd'].min()"
   ]
  },
  {
   "cell_type": "markdown",
   "id": "dbe6e7d4",
   "metadata": {},
   "source": [
    "### 7. Quais os nomes únicos da coluna “City” entre as linhas 50 e 70?"
   ]
  },
  {
   "cell_type": "code",
   "execution_count": 8,
   "id": "ff25cead",
   "metadata": {},
   "outputs": [
    {
     "data": {
      "text/plain": [
       "array(['Metropolitian ', 'Urban ', 'Semi-Urban ', 'NaN '], dtype=object)"
      ]
     },
     "execution_count": 8,
     "metadata": {},
     "output_type": "execute_result"
    }
   ],
   "source": [
    "df.loc[50:70, 'City'].unique()"
   ]
  },
  {
   "cell_type": "markdown",
   "id": "0d086c8b",
   "metadata": {},
   "source": [
    "### 8. Quais os nomes únicos da coluna “Weatherconditions” entre as linhas 0 e 10?\n"
   ]
  },
  {
   "cell_type": "code",
   "execution_count": 9,
   "id": "2e8ce401",
   "metadata": {},
   "outputs": [
    {
     "data": {
      "text/plain": [
       "array(['conditions Sunny', 'conditions Stormy', 'conditions Sandstorms',\n",
       "       'conditions Cloudy', 'conditions Fog'], dtype=object)"
      ]
     },
     "execution_count": 9,
     "metadata": {},
     "output_type": "execute_result"
    }
   ],
   "source": [
    "df.loc[0:10, 'Weatherconditions'].unique()"
   ]
  },
  {
   "cell_type": "markdown",
   "id": "05f95407",
   "metadata": {},
   "source": [
    "### 9. Quais os tipos de densidade de trânsito presente na coluna “Road_traffic_density ” entre as linhas 0 a 20?\n"
   ]
  },
  {
   "cell_type": "code",
   "execution_count": 10,
   "id": "fc2bb27d",
   "metadata": {},
   "outputs": [
    {
     "data": {
      "text/plain": [
       "array(['High ', 'Jam ', 'Low ', 'Medium '], dtype=object)"
      ]
     },
     "execution_count": 10,
     "metadata": {},
     "output_type": "execute_result"
    }
   ],
   "source": [
    "df.loc[0:20, 'Road_traffic_density'].unique()"
   ]
  },
  {
   "cell_type": "markdown",
   "id": "97deb5de",
   "metadata": {},
   "source": [
    "### 10. Qual o ID do entregador de comida mais velho entre as colunas 50 e 70?"
   ]
  },
  {
   "cell_type": "code",
   "execution_count": 11,
   "id": "f367de82",
   "metadata": {},
   "outputs": [
    {
     "data": {
      "text/plain": [
       "'VADRES16DEL02 '"
      ]
     },
     "execution_count": 11,
     "metadata": {},
     "output_type": "execute_result"
    }
   ],
   "source": [
    "entregador_mais_velho = df.loc[50:70, ['Delivery_person_Age', 'Delivery_person_ID']].max()\n",
    "entregador_mais_velho['Delivery_person_ID']"
   ]
  },
  {
   "cell_type": "markdown",
   "id": "10b1dd34",
   "metadata": {},
   "source": [
    "### 10.1 Podemos achar o ID de outra maneira, retornando o ID de todos que tem a maior idade"
   ]
  },
  {
   "cell_type": "code",
   "execution_count": 12,
   "id": "c5685095",
   "metadata": {},
   "outputs": [
    {
     "data": {
      "text/plain": [
       "56     AGRRES12DEL03 \n",
       "57     VADRES02DEL02 \n",
       "66     DEHRES19DEL02 \n",
       "69    CHENRES12DEL03 \n",
       "Name: Delivery_person_ID, dtype: object"
      ]
     },
     "execution_count": 12,
     "metadata": {},
     "output_type": "execute_result"
    }
   ],
   "source": [
    "maior_idade = max(df.loc[50:70, 'Delivery_person_Age'])\n",
    "newdf = df.loc[50:70]\n",
    "newdf.loc[newdf['Delivery_person_Age'] == maior_idade]['Delivery_person_ID']"
   ]
  },
  {
   "cell_type": "markdown",
   "id": "7937d11f",
   "metadata": {},
   "source": [
    "### 11. Qual o ID do entregador de comida com a melhor avaliação de entrega entre as colunas 50 e 70?\n"
   ]
  },
  {
   "cell_type": "code",
   "execution_count": 13,
   "id": "5cfffa10",
   "metadata": {},
   "outputs": [
    {
     "data": {
      "text/plain": [
       "52    AURGRES20DEL03 \n",
       "63     MUMRES04DEL01 \n",
       "Name: Delivery_person_ID, dtype: object"
      ]
     },
     "execution_count": 13,
     "metadata": {},
     "output_type": "execute_result"
    }
   ],
   "source": [
    "maior_rating = max(df.loc[50:70, 'Delivery_person_Ratings'])\n",
    "ratings_df = df.loc[50:70]   \n",
    "ratings_df.loc[ratings_df['Delivery_person_Ratings'] == maior_rating]['Delivery_person_ID']"
   ]
  },
  {
   "cell_type": "markdown",
   "id": "43046745",
   "metadata": {},
   "source": [
    "### 12. Quais os tipos de veículos utilizados pelos entregadores entre as linhas 0 a 30?"
   ]
  },
  {
   "cell_type": "code",
   "execution_count": 14,
   "id": "c72b0be6",
   "metadata": {},
   "outputs": [
    {
     "data": {
      "text/plain": [
       "array(['motorcycle ', 'scooter ', 'electric_scooter '], dtype=object)"
      ]
     },
     "execution_count": 14,
     "metadata": {},
     "output_type": "execute_result"
    }
   ],
   "source": [
    "df.loc[:30, 'Type_of_vehicle'].unique()"
   ]
  },
  {
   "cell_type": "markdown",
   "id": "d410751d",
   "metadata": {},
   "source": [
    "### 13. Quais os tipos de pedidos único que foram entregues entre as colunas 100 e 120?"
   ]
  },
  {
   "cell_type": "code",
   "execution_count": 15,
   "id": "7b00eab6",
   "metadata": {},
   "outputs": [
    {
     "data": {
      "text/plain": [
       "array(['Snack ', 'Meal ', 'Buffet ', 'Drinks '], dtype=object)"
      ]
     },
     "execution_count": 15,
     "metadata": {},
     "output_type": "execute_result"
    }
   ],
   "source": [
    "df.loc[100:120, 'Type_of_order'].unique()"
   ]
  },
  {
   "cell_type": "code",
   "execution_count": null,
   "id": "466c754f",
   "metadata": {},
   "outputs": [],
   "source": []
  }
 ],
 "metadata": {
  "kernelspec": {
   "display_name": "Python 3 (ipykernel)",
   "language": "python",
   "name": "python3"
  },
  "language_info": {
   "codemirror_mode": {
    "name": "ipython",
    "version": 3
   },
   "file_extension": ".py",
   "mimetype": "text/x-python",
   "name": "python",
   "nbconvert_exporter": "python",
   "pygments_lexer": "ipython3",
   "version": "3.10.9"
  }
 },
 "nbformat": 4,
 "nbformat_minor": 5
}
