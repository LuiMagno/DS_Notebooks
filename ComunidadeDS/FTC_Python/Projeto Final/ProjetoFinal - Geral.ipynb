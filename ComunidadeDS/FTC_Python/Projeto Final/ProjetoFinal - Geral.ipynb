{
 "cells": [
  {
   "cell_type": "code",
   "execution_count": 1,
   "id": "42640abc-7b30-492f-8fd2-ebcbab4ca8a5",
   "metadata": {
    "tags": []
   },
   "outputs": [],
   "source": [
    "# Bibliotecas\n",
    "import pandas as pd"
   ]
  },
  {
   "cell_type": "code",
   "execution_count": 2,
   "id": "56527504-70b6-421c-9991-cb7bbf160209",
   "metadata": {
    "tags": []
   },
   "outputs": [
    {
     "data": {
      "text/html": [
       "<div>\n",
       "<style scoped>\n",
       "    .dataframe tbody tr th:only-of-type {\n",
       "        vertical-align: middle;\n",
       "    }\n",
       "\n",
       "    .dataframe tbody tr th {\n",
       "        vertical-align: top;\n",
       "    }\n",
       "\n",
       "    .dataframe thead th {\n",
       "        text-align: right;\n",
       "    }\n",
       "</style>\n",
       "<table border=\"1\" class=\"dataframe\">\n",
       "  <thead>\n",
       "    <tr style=\"text-align: right;\">\n",
       "      <th></th>\n",
       "      <th>restaurant_id</th>\n",
       "      <th>restaurant_name</th>\n",
       "      <th>country_name</th>\n",
       "      <th>city</th>\n",
       "      <th>address</th>\n",
       "      <th>locality</th>\n",
       "      <th>longitude</th>\n",
       "      <th>latitude</th>\n",
       "      <th>cuisines</th>\n",
       "      <th>average_cost_for_two</th>\n",
       "      <th>currency</th>\n",
       "      <th>has_table_booking</th>\n",
       "      <th>has_online_delivery</th>\n",
       "      <th>is_delivering_now</th>\n",
       "      <th>price_range</th>\n",
       "      <th>aggregate_rating</th>\n",
       "      <th>rating_color</th>\n",
       "      <th>rating_text</th>\n",
       "      <th>votes</th>\n",
       "    </tr>\n",
       "  </thead>\n",
       "  <tbody>\n",
       "    <tr>\n",
       "      <th>0</th>\n",
       "      <td>6310675</td>\n",
       "      <td>Mama Lou's Italian Kitchen</td>\n",
       "      <td>Philippines</td>\n",
       "      <td>Las Piñas City</td>\n",
       "      <td>Block 1, Lot 36, Tropical Avenue Corner Tropic...</td>\n",
       "      <td>BF International</td>\n",
       "      <td>121.009787</td>\n",
       "      <td>14.447615</td>\n",
       "      <td>Italian</td>\n",
       "      <td>1100</td>\n",
       "      <td>Botswana Pula(P)</td>\n",
       "      <td>1</td>\n",
       "      <td>0</td>\n",
       "      <td>0</td>\n",
       "      <td>expensive</td>\n",
       "      <td>4.6</td>\n",
       "      <td>darkgreen</td>\n",
       "      <td>Excellent</td>\n",
       "      <td>619</td>\n",
       "    </tr>\n",
       "    <tr>\n",
       "      <th>1</th>\n",
       "      <td>6310675</td>\n",
       "      <td>Mama Lou's Italian Kitchen</td>\n",
       "      <td>Philippines</td>\n",
       "      <td>Las Piñas City</td>\n",
       "      <td>Block 1, Lot 36, Tropical Avenue Corner Tropic...</td>\n",
       "      <td>BF International</td>\n",
       "      <td>121.009787</td>\n",
       "      <td>14.447615</td>\n",
       "      <td>Italian</td>\n",
       "      <td>1100</td>\n",
       "      <td>Botswana Pula(P)</td>\n",
       "      <td>1</td>\n",
       "      <td>0</td>\n",
       "      <td>0</td>\n",
       "      <td>expensive</td>\n",
       "      <td>4.6</td>\n",
       "      <td>darkgreen</td>\n",
       "      <td>Excellent</td>\n",
       "      <td>619</td>\n",
       "    </tr>\n",
       "    <tr>\n",
       "      <th>2</th>\n",
       "      <td>6314542</td>\n",
       "      <td>Blackbird</td>\n",
       "      <td>Philippines</td>\n",
       "      <td>Makati City</td>\n",
       "      <td>Nielson Tower, Ayala Triangle Gardens, Salcedo...</td>\n",
       "      <td>Ayala Triangle Gardens, Salcedo Village, Makat...</td>\n",
       "      <td>121.024562</td>\n",
       "      <td>14.556042</td>\n",
       "      <td>European</td>\n",
       "      <td>3100</td>\n",
       "      <td>Botswana Pula(P)</td>\n",
       "      <td>0</td>\n",
       "      <td>0</td>\n",
       "      <td>0</td>\n",
       "      <td>gourmet</td>\n",
       "      <td>4.7</td>\n",
       "      <td>darkgreen</td>\n",
       "      <td>Excellent</td>\n",
       "      <td>469</td>\n",
       "    </tr>\n",
       "    <tr>\n",
       "      <th>3</th>\n",
       "      <td>6301293</td>\n",
       "      <td>Banapple</td>\n",
       "      <td>Philippines</td>\n",
       "      <td>Makati City</td>\n",
       "      <td>Ayala Triangle Gardens, Salcedo Village, Makat...</td>\n",
       "      <td>Ayala Triangle Gardens, Salcedo Village, Makat...</td>\n",
       "      <td>121.023171</td>\n",
       "      <td>14.556196</td>\n",
       "      <td>Filipino</td>\n",
       "      <td>800</td>\n",
       "      <td>Botswana Pula(P)</td>\n",
       "      <td>0</td>\n",
       "      <td>0</td>\n",
       "      <td>0</td>\n",
       "      <td>expensive</td>\n",
       "      <td>4.4</td>\n",
       "      <td>green</td>\n",
       "      <td>Very Good</td>\n",
       "      <td>867</td>\n",
       "    </tr>\n",
       "    <tr>\n",
       "      <th>4</th>\n",
       "      <td>6315689</td>\n",
       "      <td>Bad Bird</td>\n",
       "      <td>Philippines</td>\n",
       "      <td>Makati City</td>\n",
       "      <td>Hole In The Wall, Floor 4, Century City Mall, ...</td>\n",
       "      <td>Century City Mall, Poblacion, Makati City</td>\n",
       "      <td>121.027708</td>\n",
       "      <td>14.565899</td>\n",
       "      <td>American</td>\n",
       "      <td>700</td>\n",
       "      <td>Botswana Pula(P)</td>\n",
       "      <td>0</td>\n",
       "      <td>0</td>\n",
       "      <td>0</td>\n",
       "      <td>expensive</td>\n",
       "      <td>4.4</td>\n",
       "      <td>green</td>\n",
       "      <td>Very Good</td>\n",
       "      <td>858</td>\n",
       "    </tr>\n",
       "  </tbody>\n",
       "</table>\n",
       "</div>"
      ],
      "text/plain": [
       "   restaurant_id             restaurant_name country_name            city  \\\n",
       "0        6310675  Mama Lou's Italian Kitchen  Philippines  Las Piñas City   \n",
       "1        6310675  Mama Lou's Italian Kitchen  Philippines  Las Piñas City   \n",
       "2        6314542                   Blackbird  Philippines     Makati City   \n",
       "3        6301293                    Banapple  Philippines     Makati City   \n",
       "4        6315689                    Bad Bird  Philippines     Makati City   \n",
       "\n",
       "                                             address  \\\n",
       "0  Block 1, Lot 36, Tropical Avenue Corner Tropic...   \n",
       "1  Block 1, Lot 36, Tropical Avenue Corner Tropic...   \n",
       "2  Nielson Tower, Ayala Triangle Gardens, Salcedo...   \n",
       "3  Ayala Triangle Gardens, Salcedo Village, Makat...   \n",
       "4  Hole In The Wall, Floor 4, Century City Mall, ...   \n",
       "\n",
       "                                            locality   longitude   latitude  \\\n",
       "0                                   BF International  121.009787  14.447615   \n",
       "1                                   BF International  121.009787  14.447615   \n",
       "2  Ayala Triangle Gardens, Salcedo Village, Makat...  121.024562  14.556042   \n",
       "3  Ayala Triangle Gardens, Salcedo Village, Makat...  121.023171  14.556196   \n",
       "4          Century City Mall, Poblacion, Makati City  121.027708  14.565899   \n",
       "\n",
       "   cuisines  average_cost_for_two          currency  has_table_booking  \\\n",
       "0   Italian                  1100  Botswana Pula(P)                  1   \n",
       "1   Italian                  1100  Botswana Pula(P)                  1   \n",
       "2  European                  3100  Botswana Pula(P)                  0   \n",
       "3  Filipino                   800  Botswana Pula(P)                  0   \n",
       "4  American                   700  Botswana Pula(P)                  0   \n",
       "\n",
       "   has_online_delivery  is_delivering_now price_range  aggregate_rating  \\\n",
       "0                    0                  0   expensive               4.6   \n",
       "1                    0                  0   expensive               4.6   \n",
       "2                    0                  0     gourmet               4.7   \n",
       "3                    0                  0   expensive               4.4   \n",
       "4                    0                  0   expensive               4.4   \n",
       "\n",
       "  rating_color rating_text  votes  \n",
       "0    darkgreen   Excellent    619  \n",
       "1    darkgreen   Excellent    619  \n",
       "2    darkgreen   Excellent    469  \n",
       "3        green   Very Good    867  \n",
       "4        green   Very Good    858  "
      ]
     },
     "execution_count": 2,
     "metadata": {},
     "output_type": "execute_result"
    }
   ],
   "source": [
    "# Importando Dataset\n",
    "df_root = pd.read_csv('dataset/clean_zomato.csv')\n",
    "\n",
    "# Fazendo cópia do dataframe lido\n",
    "df = df_root.copy()\n",
    "df.head()"
   ]
  },
  {
   "cell_type": "code",
   "execution_count": 3,
   "id": "2cd27ad2-dbcd-4175-8be9-7a90a7b8fe5a",
   "metadata": {
    "tags": []
   },
   "outputs": [
    {
     "data": {
      "text/plain": [
       "(7512, 19)"
      ]
     },
     "execution_count": 3,
     "metadata": {},
     "output_type": "execute_result"
    }
   ],
   "source": [
    "df.shape"
   ]
  },
  {
   "cell_type": "markdown",
   "id": "d9934da2-5590-49bb-bde6-b6e60d9c2743",
   "metadata": {},
   "source": [
    "# Fome 0 - Geral"
   ]
  },
  {
   "cell_type": "markdown",
   "id": "ad06e6e8-c522-4cb9-8295-52b2b0fdebb0",
   "metadata": {},
   "source": [
    "## 01 - Quantos restaurantes únicos estão registrados?"
   ]
  },
  {
   "cell_type": "code",
   "execution_count": 6,
   "id": "efe57872-4187-4425-bebe-8954b1e77519",
   "metadata": {
    "tags": []
   },
   "outputs": [
    {
     "name": "stdout",
     "output_type": "stream",
     "text": [
      "São 6929 restaurantes únicos registrados\n"
     ]
    }
   ],
   "source": [
    "restaurantes_unicos = df['restaurant_id'].nunique()\n",
    "print(f'São {restaurantes_unicos} restaurantes únicos registrados')"
   ]
  },
  {
   "cell_type": "markdown",
   "id": "a9d2fb74-e307-4c30-addc-9aab20a5a507",
   "metadata": {},
   "source": [
    "## 02 - Quantos países únicos estão registrados?"
   ]
  },
  {
   "cell_type": "code",
   "execution_count": 8,
   "id": "e5634f9f-e5c0-4f1c-ae42-7dd2c9742aa5",
   "metadata": {
    "tags": []
   },
   "outputs": [
    {
     "name": "stdout",
     "output_type": "stream",
     "text": [
      "São 15 países únicos registrados\n"
     ]
    }
   ],
   "source": [
    "paises_unicos = df['country_name'].nunique()\n",
    "print(f'São {paises_unicos} países únicos registrados')"
   ]
  },
  {
   "cell_type": "markdown",
   "id": "2321c9a0-5ac4-415d-bd60-30fb8160fb36",
   "metadata": {},
   "source": [
    "## 03 - Quantas cidades únicas estão registradas?"
   ]
  },
  {
   "cell_type": "code",
   "execution_count": 9,
   "id": "2bf80278-9c3e-4326-9dcd-4f016c7962a8",
   "metadata": {
    "tags": []
   },
   "outputs": [
    {
     "name": "stdout",
     "output_type": "stream",
     "text": [
      "São 125 cidades únicas registrados\n"
     ]
    }
   ],
   "source": [
    "cidades_unicas = df['city'].nunique()\n",
    "print(f'São {cidades_unicas} cidades únicas registrados')"
   ]
  },
  {
   "cell_type": "markdown",
   "id": "9d8288f5-f6b8-4012-8bfd-a065eef5d8ed",
   "metadata": {},
   "source": [
    "## 04 - Qual o total de avaliações feitas?"
   ]
  },
  {
   "cell_type": "code",
   "execution_count": 10,
   "id": "2e038edb-5d66-489b-a438-8e1e0b278a40",
   "metadata": {
    "tags": []
   },
   "outputs": [
    {
     "name": "stdout",
     "output_type": "stream",
     "text": [
      "Foram 4638535 avaliações realizadas\n"
     ]
    }
   ],
   "source": [
    "soma_avaliacoes = df['votes'].sum()\n",
    "print(f'Foram {soma_avaliacoes} avaliações realizadas')"
   ]
  },
  {
   "cell_type": "markdown",
   "id": "e533894e-81c6-48db-b8f7-2a3a9e20be21",
   "metadata": {},
   "source": [
    "## 05 - Qual o total de tipos de culinária registrados?"
   ]
  },
  {
   "cell_type": "code",
   "execution_count": 12,
   "id": "5fddff35-60ad-4521-a1cb-4f3212bd53a2",
   "metadata": {
    "tags": []
   },
   "outputs": [
    {
     "name": "stdout",
     "output_type": "stream",
     "text": [
      "São 165 tipos de culinária registrados\n"
     ]
    }
   ],
   "source": [
    "tipos_culinaria = df['cuisines'].nunique()\n",
    "print(f'São {tipos_culinaria} tipos de culinária registrados')"
   ]
  },
  {
   "cell_type": "code",
   "execution_count": 14,
   "id": "6ca1da4d-46e5-4dfb-b973-974791535e91",
   "metadata": {
    "tags": []
   },
   "outputs": [
    {
     "name": "stdout",
     "output_type": "stream",
     "text": [
      "Italian\n",
      "European\n",
      "Filipino\n",
      "American\n",
      "Korean\n",
      "Pizza\n",
      "Taiwanese\n",
      "Japanese\n",
      "Coffee\n",
      "Chinese\n",
      "Seafood\n",
      "Singaporean\n",
      "Vietnamese\n",
      "Latin American\n",
      "Healthy Food\n",
      "Cafe\n",
      "Fast Food\n",
      "Brazilian\n",
      "Argentine\n",
      "Arabian\n",
      "Bakery\n",
      "Tex-Mex\n",
      "Bar Food\n",
      "International\n",
      "French\n",
      "Steak\n",
      "German\n",
      "Sushi\n",
      "Grill\n",
      "Peruvian\n",
      "North Eastern\n",
      "Ice Cream\n",
      "Burger\n",
      "Mexican\n",
      "Vegetarian\n",
      "Contemporary\n",
      "Desserts\n",
      "Juices\n",
      "Beverages\n",
      "Spanish\n",
      "Thai\n",
      "Indian\n",
      "Mineira\n",
      "BBQ\n",
      "Mongolian\n",
      "Portuguese\n",
      "Greek\n",
      "Asian\n",
      "Author\n",
      "Gourmet Fast Food\n",
      "Lebanese\n",
      "Modern Australian\n",
      "African\n",
      "Coffee and Tea\n",
      "Australian\n",
      "Middle Eastern\n",
      "Malaysian\n",
      "Tapas\n",
      "New American\n",
      "Pub Food\n",
      "Southern\n",
      "Diner\n",
      "Donuts\n",
      "Southwestern\n",
      "Sandwich\n",
      "Irish\n",
      "Mediterranean\n",
      "Cafe Food\n",
      "Korean BBQ\n",
      "Fusion\n",
      "Canadian\n",
      "Breakfast\n",
      "Cajun\n",
      "New Mexican\n",
      "Belgian\n",
      "Cuban\n",
      "Taco\n",
      "Caribbean\n",
      "Polish\n",
      "Deli\n",
      "British\n",
      "California\n",
      "Others\n",
      "Eastern European\n",
      "Creole\n",
      "Ramen\n",
      "Ukrainian\n",
      "Hawaiian\n",
      "Patisserie\n",
      "Yum Cha\n",
      "Pacific Northwest\n",
      "Tea\n",
      "Moroccan\n",
      "Burmese\n",
      "Dim Sum\n",
      "Crepes\n",
      "Fish and Chips\n",
      "Russian\n",
      "Continental\n",
      "South Indian\n",
      "North Indian\n",
      "Salad\n",
      "Finger Food\n",
      "Mandi\n",
      "Turkish\n",
      "Kerala\n",
      "Pakistani\n",
      "Biryani\n",
      "Street Food\n",
      "Nepalese\n",
      "Goan\n",
      "Iranian\n",
      "Mughlai\n",
      "Rajasthani\n",
      "Mithai\n",
      "Maharashtrian\n",
      "Gujarati\n",
      "Rolls\n",
      "Momos\n",
      "Parsi\n",
      "Modern Indian\n",
      "Andhra\n",
      "Tibetan\n",
      "Kebab\n",
      "Chettinad\n",
      "Bengali\n",
      "Assamese\n",
      "Naga\n",
      "Hyderabadi\n",
      "Awadhi\n",
      "Afghan\n",
      "Lucknowi\n",
      "Charcoal Chicken\n",
      "Mangalorean\n",
      "Egyptian\n",
      "Malwani\n",
      "Armenian\n",
      "Roast Chicken\n",
      "Indonesian\n",
      "Western\n",
      "Dimsum\n",
      "Sunda\n",
      "Kiwi\n",
      "Asian Fusion\n",
      "Pan Asian\n",
      "Balti\n",
      "Scottish\n",
      "Cantonese\n",
      "Sri Lankan\n",
      "Khaleeji\n",
      "South African\n",
      "Drinks Only\n",
      "Durban\n",
      "World Cuisine\n",
      "Izgara\n",
      "Home-made\n",
      "Giblets\n",
      "Fresh Fish\n",
      "Restaurant Cafe\n",
      "Kumpir\n",
      "Döner\n",
      "Turkish Pizza\n",
      "Ottoman\n",
      "Old Turkish Bars\n",
      "Kokoreç\n"
     ]
    }
   ],
   "source": [
    "array = df['cuisines'].unique()\n",
    "for x in array:\n",
    "    print(x)"
   ]
  },
  {
   "cell_type": "code",
   "execution_count": null,
   "id": "8b9dcf15-a68e-4f37-ae6b-f6ceaf57fbc2",
   "metadata": {},
   "outputs": [],
   "source": []
  }
 ],
 "metadata": {
  "kernelspec": {
   "display_name": "Python 3 (ipykernel)",
   "language": "python",
   "name": "python3"
  },
  "language_info": {
   "codemirror_mode": {
    "name": "ipython",
    "version": 3
   },
   "file_extension": ".py",
   "mimetype": "text/x-python",
   "name": "python",
   "nbconvert_exporter": "python",
   "pygments_lexer": "ipython3",
   "version": "3.10.9"
  }
 },
 "nbformat": 4,
 "nbformat_minor": 5
}
