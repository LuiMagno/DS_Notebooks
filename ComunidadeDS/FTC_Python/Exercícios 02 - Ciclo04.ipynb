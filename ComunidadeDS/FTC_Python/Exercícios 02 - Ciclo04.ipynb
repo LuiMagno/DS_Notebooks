{
 "cells": [
  {
   "cell_type": "code",
   "execution_count": 1,
   "id": "3d37d7d8",
   "metadata": {},
   "outputs": [
    {
     "data": {
      "text/html": [
       "<div>\n",
       "<style scoped>\n",
       "    .dataframe tbody tr th:only-of-type {\n",
       "        vertical-align: middle;\n",
       "    }\n",
       "\n",
       "    .dataframe tbody tr th {\n",
       "        vertical-align: top;\n",
       "    }\n",
       "\n",
       "    .dataframe thead th {\n",
       "        text-align: right;\n",
       "    }\n",
       "</style>\n",
       "<table border=\"1\" class=\"dataframe\">\n",
       "  <thead>\n",
       "    <tr style=\"text-align: right;\">\n",
       "      <th></th>\n",
       "      <th>ID</th>\n",
       "      <th>Delivery_person_ID</th>\n",
       "      <th>Delivery_person_Age</th>\n",
       "      <th>Delivery_person_Ratings</th>\n",
       "      <th>Restaurant_latitude</th>\n",
       "      <th>Restaurant_longitude</th>\n",
       "      <th>Delivery_location_latitude</th>\n",
       "      <th>Delivery_location_longitude</th>\n",
       "      <th>Order_Date</th>\n",
       "      <th>Time_Orderd</th>\n",
       "      <th>Time_Order_picked</th>\n",
       "      <th>Weatherconditions</th>\n",
       "      <th>Road_traffic_density</th>\n",
       "      <th>Vehicle_condition</th>\n",
       "      <th>Type_of_order</th>\n",
       "      <th>Type_of_vehicle</th>\n",
       "      <th>multiple_deliveries</th>\n",
       "      <th>Festival</th>\n",
       "      <th>City</th>\n",
       "      <th>Time_taken(min)</th>\n",
       "    </tr>\n",
       "  </thead>\n",
       "  <tbody>\n",
       "    <tr>\n",
       "      <th>0</th>\n",
       "      <td>0x4607</td>\n",
       "      <td>INDORES13DEL02</td>\n",
       "      <td>37</td>\n",
       "      <td>4.9</td>\n",
       "      <td>22.745049</td>\n",
       "      <td>75.892471</td>\n",
       "      <td>22.765049</td>\n",
       "      <td>75.912471</td>\n",
       "      <td>19-03-2022</td>\n",
       "      <td>11:30:00</td>\n",
       "      <td>11:45:00</td>\n",
       "      <td>conditions Sunny</td>\n",
       "      <td>High</td>\n",
       "      <td>2</td>\n",
       "      <td>Snack</td>\n",
       "      <td>motorcycle</td>\n",
       "      <td>0</td>\n",
       "      <td>No</td>\n",
       "      <td>Urban</td>\n",
       "      <td>(min) 24</td>\n",
       "    </tr>\n",
       "    <tr>\n",
       "      <th>1</th>\n",
       "      <td>0xb379</td>\n",
       "      <td>BANGRES18DEL02</td>\n",
       "      <td>34</td>\n",
       "      <td>4.5</td>\n",
       "      <td>12.913041</td>\n",
       "      <td>77.683237</td>\n",
       "      <td>13.043041</td>\n",
       "      <td>77.813237</td>\n",
       "      <td>25-03-2022</td>\n",
       "      <td>19:45:00</td>\n",
       "      <td>19:50:00</td>\n",
       "      <td>conditions Stormy</td>\n",
       "      <td>Jam</td>\n",
       "      <td>2</td>\n",
       "      <td>Snack</td>\n",
       "      <td>scooter</td>\n",
       "      <td>1</td>\n",
       "      <td>No</td>\n",
       "      <td>Metropolitian</td>\n",
       "      <td>(min) 33</td>\n",
       "    </tr>\n",
       "    <tr>\n",
       "      <th>2</th>\n",
       "      <td>0x5d6d</td>\n",
       "      <td>BANGRES19DEL01</td>\n",
       "      <td>23</td>\n",
       "      <td>4.4</td>\n",
       "      <td>12.914264</td>\n",
       "      <td>77.678400</td>\n",
       "      <td>12.924264</td>\n",
       "      <td>77.688400</td>\n",
       "      <td>19-03-2022</td>\n",
       "      <td>08:30:00</td>\n",
       "      <td>08:45:00</td>\n",
       "      <td>conditions Sandstorms</td>\n",
       "      <td>Low</td>\n",
       "      <td>0</td>\n",
       "      <td>Drinks</td>\n",
       "      <td>motorcycle</td>\n",
       "      <td>1</td>\n",
       "      <td>No</td>\n",
       "      <td>Urban</td>\n",
       "      <td>(min) 26</td>\n",
       "    </tr>\n",
       "    <tr>\n",
       "      <th>3</th>\n",
       "      <td>0x7a6a</td>\n",
       "      <td>COIMBRES13DEL02</td>\n",
       "      <td>38</td>\n",
       "      <td>4.7</td>\n",
       "      <td>11.003669</td>\n",
       "      <td>76.976494</td>\n",
       "      <td>11.053669</td>\n",
       "      <td>77.026494</td>\n",
       "      <td>05-04-2022</td>\n",
       "      <td>18:00:00</td>\n",
       "      <td>18:10:00</td>\n",
       "      <td>conditions Sunny</td>\n",
       "      <td>Medium</td>\n",
       "      <td>0</td>\n",
       "      <td>Buffet</td>\n",
       "      <td>motorcycle</td>\n",
       "      <td>1</td>\n",
       "      <td>No</td>\n",
       "      <td>Metropolitian</td>\n",
       "      <td>(min) 21</td>\n",
       "    </tr>\n",
       "    <tr>\n",
       "      <th>4</th>\n",
       "      <td>0x70a2</td>\n",
       "      <td>CHENRES12DEL01</td>\n",
       "      <td>32</td>\n",
       "      <td>4.6</td>\n",
       "      <td>12.972793</td>\n",
       "      <td>80.249982</td>\n",
       "      <td>13.012793</td>\n",
       "      <td>80.289982</td>\n",
       "      <td>26-03-2022</td>\n",
       "      <td>13:30:00</td>\n",
       "      <td>13:45:00</td>\n",
       "      <td>conditions Cloudy</td>\n",
       "      <td>High</td>\n",
       "      <td>1</td>\n",
       "      <td>Snack</td>\n",
       "      <td>scooter</td>\n",
       "      <td>1</td>\n",
       "      <td>No</td>\n",
       "      <td>Metropolitian</td>\n",
       "      <td>(min) 30</td>\n",
       "    </tr>\n",
       "  </tbody>\n",
       "</table>\n",
       "</div>"
      ],
      "text/plain": [
       "        ID Delivery_person_ID Delivery_person_Age Delivery_person_Ratings  \\\n",
       "0  0x4607     INDORES13DEL02                   37                     4.9   \n",
       "1  0xb379     BANGRES18DEL02                   34                     4.5   \n",
       "2  0x5d6d     BANGRES19DEL01                   23                     4.4   \n",
       "3  0x7a6a    COIMBRES13DEL02                   38                     4.7   \n",
       "4  0x70a2     CHENRES12DEL01                   32                     4.6   \n",
       "\n",
       "   Restaurant_latitude  Restaurant_longitude  Delivery_location_latitude  \\\n",
       "0            22.745049             75.892471                   22.765049   \n",
       "1            12.913041             77.683237                   13.043041   \n",
       "2            12.914264             77.678400                   12.924264   \n",
       "3            11.003669             76.976494                   11.053669   \n",
       "4            12.972793             80.249982                   13.012793   \n",
       "\n",
       "   Delivery_location_longitude  Order_Date Time_Orderd Time_Order_picked  \\\n",
       "0                    75.912471  19-03-2022    11:30:00          11:45:00   \n",
       "1                    77.813237  25-03-2022    19:45:00          19:50:00   \n",
       "2                    77.688400  19-03-2022    08:30:00          08:45:00   \n",
       "3                    77.026494  05-04-2022    18:00:00          18:10:00   \n",
       "4                    80.289982  26-03-2022    13:30:00          13:45:00   \n",
       "\n",
       "       Weatherconditions Road_traffic_density  Vehicle_condition  \\\n",
       "0       conditions Sunny                High                   2   \n",
       "1      conditions Stormy                 Jam                   2   \n",
       "2  conditions Sandstorms                 Low                   0   \n",
       "3       conditions Sunny              Medium                   0   \n",
       "4      conditions Cloudy                High                   1   \n",
       "\n",
       "  Type_of_order Type_of_vehicle multiple_deliveries Festival            City  \\\n",
       "0        Snack      motorcycle                    0      No           Urban    \n",
       "1        Snack         scooter                    1      No   Metropolitian    \n",
       "2       Drinks      motorcycle                    1      No           Urban    \n",
       "3       Buffet      motorcycle                    1      No   Metropolitian    \n",
       "4        Snack         scooter                    1      No   Metropolitian    \n",
       "\n",
       "  Time_taken(min)  \n",
       "0        (min) 24  \n",
       "1        (min) 33  \n",
       "2        (min) 26  \n",
       "3        (min) 21  \n",
       "4        (min) 30  "
      ]
     },
     "execution_count": 1,
     "metadata": {},
     "output_type": "execute_result"
    }
   ],
   "source": [
    "import pandas as pd\n",
    "import re\n",
    "df_root = pd.read_csv('C:/Users/lui-m/Documents/GitHub/DS_Notebooks/ComunidadeDS/FTC_Python/datasets/train.csv')\n",
    "df_root.head()"
   ]
  },
  {
   "cell_type": "code",
   "execution_count": 2,
   "id": "9bb50357",
   "metadata": {},
   "outputs": [],
   "source": [
    "# Fazendo cópia do dataframe lido\n",
    "df = df_root.copy()\n",
    "\n",
    "# Removendo espaço da string sem o loop for\n",
    "df.loc[:, 'ID'] = df.loc[:, 'ID'].str.strip()\n",
    "df.loc[:, 'Delivery_person_ID'] = df.loc[:, 'Delivery_person_ID'].str.strip()\n",
    "df.loc[:, 'Road_traffic_density'] = df.loc[:, 'Road_traffic_density'].str.strip()\n",
    "df.loc[:, 'Type_of_order'] = df.loc[:, 'Type_of_order'].str.strip()\n",
    "df.loc[:, 'Type_of_vehicle'] = df.loc[:, 'Type_of_vehicle'].str.strip()\n",
    "\n",
    "# Excluindo as linhas com a idade dos entregadores vazia\n",
    "linhas_nao_vazias = df['Delivery_person_Age'] != 'NaN '\n",
    "df = df.loc[linhas_nao_vazias, :]\n",
    "\n",
    "# Conversao de texto/categoria/string para numeros inteiros\n",
    "df['Delivery_person_Age'] = df['Delivery_person_Age'].astype(int)\n",
    "\n",
    "# Conversao de texto/categoria/string para numeros decimais\n",
    "df['Delivery_person_Ratings'] = df['Delivery_person_Ratings'].astype(float)\n",
    "\n",
    "# Conversao de texto para data\n",
    "df['Order_Date'] = pd.to_datetime(df['Order_Date'], format='%d-%m-%Y')\n",
    "\n",
    "# Remove as linhas da coluna multiple_deliveries que tenham o conteúdo igual a 'NqN ' e fazendo o cast para inteiro\n",
    "linhas_nao_vazias = df['multiple_deliveries'] != 'NaN '\n",
    "df = df.loc[linhas_nao_vazias, :]\n",
    "df['multiple_deliveries'] = df['multiple_deliveries'].astype(int)\n",
    "\n",
    "# Removendo texto de números e resetando index\n",
    "df = df.reset_index(drop=True)\n",
    "for i in range(len(df)):\n",
    "    df.loc[i, 'Time_taken(min)'] = re.findall(r'\\d+', df.loc[i, 'Time_taken(min)'])"
   ]
  },
  {
   "cell_type": "markdown",
   "id": "ffd00b73",
   "metadata": {},
   "source": [
    "### 1. Qual o número total de entregas cadastradas na base de dados?"
   ]
  },
  {
   "cell_type": "code",
   "execution_count": 3,
   "id": "4b31652d",
   "metadata": {},
   "outputs": [
    {
     "name": "stdout",
     "output_type": "stream",
     "text": [
      "O número total de entregas cadastradas na base de dados é de: 42805\n"
     ]
    }
   ],
   "source": [
    "numero_entregas = df['ID'].count()\n",
    "print(f'O número total de entregas cadastradas na base de dados é de: {numero_entregas}')"
   ]
  },
  {
   "cell_type": "markdown",
   "id": "7473cd14",
   "metadata": {},
   "source": [
    "### 2. Qual o número total de entregadores únicos cadastrados na base de dados?"
   ]
  },
  {
   "cell_type": "code",
   "execution_count": 4,
   "id": "71a2799b",
   "metadata": {},
   "outputs": [
    {
     "name": "stdout",
     "output_type": "stream",
     "text": [
      "O número total de entregadores cadastrados na base de dados é de: 42805\n"
     ]
    }
   ],
   "source": [
    "entregadores_unicos = df['Delivery_person_ID'].count()\n",
    "print(f'O número total de entregadores cadastrados na base de dados é de: {entregadores_unicos}')"
   ]
  },
  {
   "cell_type": "markdown",
   "id": "a7440732",
   "metadata": {},
   "source": [
    "### 3. Qual a média de idade dos entregadores por cidade?"
   ]
  },
  {
   "cell_type": "code",
   "execution_count": 5,
   "id": "d755325d",
   "metadata": {},
   "outputs": [
    {
     "data": {
      "text/html": [
       "<div>\n",
       "<style scoped>\n",
       "    .dataframe tbody tr th:only-of-type {\n",
       "        vertical-align: middle;\n",
       "    }\n",
       "\n",
       "    .dataframe tbody tr th {\n",
       "        vertical-align: top;\n",
       "    }\n",
       "\n",
       "    .dataframe thead th {\n",
       "        text-align: right;\n",
       "    }\n",
       "</style>\n",
       "<table border=\"1\" class=\"dataframe\">\n",
       "  <thead>\n",
       "    <tr style=\"text-align: right;\">\n",
       "      <th></th>\n",
       "      <th>Delivery_person_Age</th>\n",
       "    </tr>\n",
       "    <tr>\n",
       "      <th>City</th>\n",
       "      <th></th>\n",
       "    </tr>\n",
       "  </thead>\n",
       "  <tbody>\n",
       "    <tr>\n",
       "      <th>Metropolitian</th>\n",
       "      <td>29.792763</td>\n",
       "    </tr>\n",
       "    <tr>\n",
       "      <th>NaN</th>\n",
       "      <td>28.810860</td>\n",
       "    </tr>\n",
       "    <tr>\n",
       "      <th>Semi-Urban</th>\n",
       "      <td>32.565789</td>\n",
       "    </tr>\n",
       "    <tr>\n",
       "      <th>Urban</th>\n",
       "      <td>28.908480</td>\n",
       "    </tr>\n",
       "  </tbody>\n",
       "</table>\n",
       "</div>"
      ],
      "text/plain": [
       "                Delivery_person_Age\n",
       "City                               \n",
       "Metropolitian             29.792763\n",
       "NaN                       28.810860\n",
       "Semi-Urban                32.565789\n",
       "Urban                     28.908480"
      ]
     },
     "execution_count": 5,
     "metadata": {},
     "output_type": "execute_result"
    }
   ],
   "source": [
    "cols = ['Delivery_person_Age', 'City']\n",
    "\n",
    "group_age_city = df.loc[:, cols].groupby(['City']).mean()\n",
    "group_age_city"
   ]
  },
  {
   "cell_type": "markdown",
   "id": "94a6f663",
   "metadata": {},
   "source": [
    "### 4. Qual a mediana de idade dos entregadores por cidade?"
   ]
  },
  {
   "cell_type": "code",
   "execution_count": 6,
   "id": "12597d21",
   "metadata": {},
   "outputs": [
    {
     "data": {
      "text/html": [
       "<div>\n",
       "<style scoped>\n",
       "    .dataframe tbody tr th:only-of-type {\n",
       "        vertical-align: middle;\n",
       "    }\n",
       "\n",
       "    .dataframe tbody tr th {\n",
       "        vertical-align: top;\n",
       "    }\n",
       "\n",
       "    .dataframe thead th {\n",
       "        text-align: right;\n",
       "    }\n",
       "</style>\n",
       "<table border=\"1\" class=\"dataframe\">\n",
       "  <thead>\n",
       "    <tr style=\"text-align: right;\">\n",
       "      <th></th>\n",
       "      <th>Delivery_person_Age</th>\n",
       "    </tr>\n",
       "    <tr>\n",
       "      <th>City</th>\n",
       "      <th></th>\n",
       "    </tr>\n",
       "  </thead>\n",
       "  <tbody>\n",
       "    <tr>\n",
       "      <th>Metropolitian</th>\n",
       "      <td>30.0</td>\n",
       "    </tr>\n",
       "    <tr>\n",
       "      <th>NaN</th>\n",
       "      <td>28.0</td>\n",
       "    </tr>\n",
       "    <tr>\n",
       "      <th>Semi-Urban</th>\n",
       "      <td>32.0</td>\n",
       "    </tr>\n",
       "    <tr>\n",
       "      <th>Urban</th>\n",
       "      <td>28.0</td>\n",
       "    </tr>\n",
       "  </tbody>\n",
       "</table>\n",
       "</div>"
      ],
      "text/plain": [
       "                Delivery_person_Age\n",
       "City                               \n",
       "Metropolitian                  30.0\n",
       "NaN                            28.0\n",
       "Semi-Urban                     32.0\n",
       "Urban                          28.0"
      ]
     },
     "execution_count": 6,
     "metadata": {},
     "output_type": "execute_result"
    }
   ],
   "source": [
    "group_age_city = df.loc[:, cols].groupby(['City']).median()\n",
    "group_age_city"
   ]
  },
  {
   "cell_type": "markdown",
   "id": "50d32a5a",
   "metadata": {},
   "source": [
    "### 5. Qual o número total de entregas feitas por densidade de tráfego?"
   ]
  },
  {
   "cell_type": "code",
   "execution_count": 7,
   "id": "973a392a",
   "metadata": {},
   "outputs": [
    {
     "data": {
      "text/html": [
       "<div>\n",
       "<style scoped>\n",
       "    .dataframe tbody tr th:only-of-type {\n",
       "        vertical-align: middle;\n",
       "    }\n",
       "\n",
       "    .dataframe tbody tr th {\n",
       "        vertical-align: top;\n",
       "    }\n",
       "\n",
       "    .dataframe thead th {\n",
       "        text-align: right;\n",
       "    }\n",
       "</style>\n",
       "<table border=\"1\" class=\"dataframe\">\n",
       "  <thead>\n",
       "    <tr style=\"text-align: right;\">\n",
       "      <th></th>\n",
       "      <th>ID</th>\n",
       "    </tr>\n",
       "    <tr>\n",
       "      <th>Road_traffic_density</th>\n",
       "      <th></th>\n",
       "    </tr>\n",
       "  </thead>\n",
       "  <tbody>\n",
       "    <tr>\n",
       "      <th>High</th>\n",
       "      <td>4212</td>\n",
       "    </tr>\n",
       "    <tr>\n",
       "      <th>Jam</th>\n",
       "      <td>13480</td>\n",
       "    </tr>\n",
       "    <tr>\n",
       "      <th>Low</th>\n",
       "      <td>14605</td>\n",
       "    </tr>\n",
       "    <tr>\n",
       "      <th>Medium</th>\n",
       "      <td>10417</td>\n",
       "    </tr>\n",
       "    <tr>\n",
       "      <th>NaN</th>\n",
       "      <td>91</td>\n",
       "    </tr>\n",
       "  </tbody>\n",
       "</table>\n",
       "</div>"
      ],
      "text/plain": [
       "                         ID\n",
       "Road_traffic_density       \n",
       "High                   4212\n",
       "Jam                   13480\n",
       "Low                   14605\n",
       "Medium                10417\n",
       "NaN                      91"
      ]
     },
     "execution_count": 7,
     "metadata": {},
     "output_type": "execute_result"
    }
   ],
   "source": [
    "cols = ['ID', 'Road_traffic_density']\n",
    "\n",
    "group_entregas_trafego = df.loc[:, cols].groupby('Road_traffic_density').count()\n",
    "group_entregas_trafego"
   ]
  },
  {
   "cell_type": "markdown",
   "id": "5ff67270",
   "metadata": {},
   "source": [
    "### 6. Qual a média das avaliações das entregas feitas por densidade de tráfego?"
   ]
  },
  {
   "cell_type": "code",
   "execution_count": 8,
   "id": "29963ade",
   "metadata": {},
   "outputs": [
    {
     "data": {
      "text/html": [
       "<div>\n",
       "<style scoped>\n",
       "    .dataframe tbody tr th:only-of-type {\n",
       "        vertical-align: middle;\n",
       "    }\n",
       "\n",
       "    .dataframe tbody tr th {\n",
       "        vertical-align: top;\n",
       "    }\n",
       "\n",
       "    .dataframe thead th {\n",
       "        text-align: right;\n",
       "    }\n",
       "</style>\n",
       "<table border=\"1\" class=\"dataframe\">\n",
       "  <thead>\n",
       "    <tr style=\"text-align: right;\">\n",
       "      <th></th>\n",
       "      <th>Delivery_person_Ratings</th>\n",
       "    </tr>\n",
       "    <tr>\n",
       "      <th>Road_traffic_density</th>\n",
       "      <th></th>\n",
       "    </tr>\n",
       "  </thead>\n",
       "  <tbody>\n",
       "    <tr>\n",
       "      <th>High</th>\n",
       "      <td>4.653492</td>\n",
       "    </tr>\n",
       "    <tr>\n",
       "      <th>Jam</th>\n",
       "      <td>4.595395</td>\n",
       "    </tr>\n",
       "    <tr>\n",
       "      <th>Low</th>\n",
       "      <td>4.646780</td>\n",
       "    </tr>\n",
       "    <tr>\n",
       "      <th>Medium</th>\n",
       "      <td>4.660627</td>\n",
       "    </tr>\n",
       "    <tr>\n",
       "      <th>NaN</th>\n",
       "      <td>3.912088</td>\n",
       "    </tr>\n",
       "  </tbody>\n",
       "</table>\n",
       "</div>"
      ],
      "text/plain": [
       "                      Delivery_person_Ratings\n",
       "Road_traffic_density                         \n",
       "High                                 4.653492\n",
       "Jam                                  4.595395\n",
       "Low                                  4.646780\n",
       "Medium                               4.660627\n",
       "NaN                                  3.912088"
      ]
     },
     "execution_count": 8,
     "metadata": {},
     "output_type": "execute_result"
    }
   ],
   "source": [
    "cols = ['Delivery_person_Ratings', 'Road_traffic_density']\n",
    "media_entregas_trafego = df.loc[:, cols].groupby('Road_traffic_density').mean()\n",
    "media_entregas_trafego"
   ]
  },
  {
   "cell_type": "markdown",
   "id": "df3a8309",
   "metadata": {},
   "source": [
    "### 7. Qual a quantidade de entregas feitas por cidade?"
   ]
  },
  {
   "cell_type": "code",
   "execution_count": 9,
   "id": "ef384938",
   "metadata": {},
   "outputs": [
    {
     "data": {
      "text/html": [
       "<div>\n",
       "<style scoped>\n",
       "    .dataframe tbody tr th:only-of-type {\n",
       "        vertical-align: middle;\n",
       "    }\n",
       "\n",
       "    .dataframe tbody tr th {\n",
       "        vertical-align: top;\n",
       "    }\n",
       "\n",
       "    .dataframe thead th {\n",
       "        text-align: right;\n",
       "    }\n",
       "</style>\n",
       "<table border=\"1\" class=\"dataframe\">\n",
       "  <thead>\n",
       "    <tr style=\"text-align: right;\">\n",
       "      <th></th>\n",
       "      <th>ID</th>\n",
       "    </tr>\n",
       "    <tr>\n",
       "      <th>City</th>\n",
       "      <th></th>\n",
       "    </tr>\n",
       "  </thead>\n",
       "  <tbody>\n",
       "    <tr>\n",
       "      <th>Metropolitian</th>\n",
       "      <td>32031</td>\n",
       "    </tr>\n",
       "    <tr>\n",
       "      <th>NaN</th>\n",
       "      <td>1105</td>\n",
       "    </tr>\n",
       "    <tr>\n",
       "      <th>Semi-Urban</th>\n",
       "      <td>152</td>\n",
       "    </tr>\n",
       "    <tr>\n",
       "      <th>Urban</th>\n",
       "      <td>9517</td>\n",
       "    </tr>\n",
       "  </tbody>\n",
       "</table>\n",
       "</div>"
      ],
      "text/plain": [
       "                   ID\n",
       "City                 \n",
       "Metropolitian   32031\n",
       "NaN              1105\n",
       "Semi-Urban        152\n",
       "Urban            9517"
      ]
     },
     "execution_count": 9,
     "metadata": {},
     "output_type": "execute_result"
    }
   ],
   "source": [
    "cols = ['ID', 'City']\n",
    "\n",
    "entregas_cidade = df.loc[:, cols].groupby(['City']).count()\n",
    "entregas_cidade"
   ]
  },
  {
   "cell_type": "markdown",
   "id": "1af7d9b7",
   "metadata": {},
   "source": [
    "### 8. Qual a média, mediana e desvio padrão das entregas feitas por cidade e por tipo de veículo?"
   ]
  },
  {
   "cell_type": "code",
   "execution_count": 10,
   "id": "a4254bda",
   "metadata": {},
   "outputs": [
    {
     "data": {
      "text/html": [
       "<div>\n",
       "<style scoped>\n",
       "    .dataframe tbody tr th:only-of-type {\n",
       "        vertical-align: middle;\n",
       "    }\n",
       "\n",
       "    .dataframe tbody tr th {\n",
       "        vertical-align: top;\n",
       "    }\n",
       "\n",
       "    .dataframe thead th {\n",
       "        text-align: right;\n",
       "    }\n",
       "</style>\n",
       "<table border=\"1\" class=\"dataframe\">\n",
       "  <thead>\n",
       "    <tr style=\"text-align: right;\">\n",
       "      <th></th>\n",
       "      <th></th>\n",
       "      <th>ID</th>\n",
       "    </tr>\n",
       "    <tr>\n",
       "      <th>City</th>\n",
       "      <th>Type_of_vehicle</th>\n",
       "      <th></th>\n",
       "    </tr>\n",
       "  </thead>\n",
       "  <tbody>\n",
       "    <tr>\n",
       "      <th rowspan=\"4\" valign=\"top\">Metropolitian</th>\n",
       "      <th>bicycle</th>\n",
       "      <td>15</td>\n",
       "    </tr>\n",
       "    <tr>\n",
       "      <th>electric_scooter</th>\n",
       "      <td>2590</td>\n",
       "    </tr>\n",
       "    <tr>\n",
       "      <th>motorcycle</th>\n",
       "      <td>18989</td>\n",
       "    </tr>\n",
       "    <tr>\n",
       "      <th>scooter</th>\n",
       "      <td>10437</td>\n",
       "    </tr>\n",
       "    <tr>\n",
       "      <th rowspan=\"3\" valign=\"top\">NaN</th>\n",
       "      <th>electric_scooter</th>\n",
       "      <td>88</td>\n",
       "    </tr>\n",
       "    <tr>\n",
       "      <th>motorcycle</th>\n",
       "      <td>581</td>\n",
       "    </tr>\n",
       "    <tr>\n",
       "      <th>scooter</th>\n",
       "      <td>436</td>\n",
       "    </tr>\n",
       "    <tr>\n",
       "      <th rowspan=\"3\" valign=\"top\">Semi-Urban</th>\n",
       "      <th>electric_scooter</th>\n",
       "      <td>3</td>\n",
       "    </tr>\n",
       "    <tr>\n",
       "      <th>motorcycle</th>\n",
       "      <td>140</td>\n",
       "    </tr>\n",
       "    <tr>\n",
       "      <th>scooter</th>\n",
       "      <td>9</td>\n",
       "    </tr>\n",
       "    <tr>\n",
       "      <th rowspan=\"3\" valign=\"top\">Urban</th>\n",
       "      <th>electric_scooter</th>\n",
       "      <td>807</td>\n",
       "    </tr>\n",
       "    <tr>\n",
       "      <th>motorcycle</th>\n",
       "      <td>5300</td>\n",
       "    </tr>\n",
       "    <tr>\n",
       "      <th>scooter</th>\n",
       "      <td>3410</td>\n",
       "    </tr>\n",
       "  </tbody>\n",
       "</table>\n",
       "</div>"
      ],
      "text/plain": [
       "                                    ID\n",
       "City           Type_of_vehicle        \n",
       "Metropolitian  bicycle              15\n",
       "               electric_scooter   2590\n",
       "               motorcycle        18989\n",
       "               scooter           10437\n",
       "NaN            electric_scooter     88\n",
       "               motorcycle          581\n",
       "               scooter             436\n",
       "Semi-Urban     electric_scooter      3\n",
       "               motorcycle          140\n",
       "               scooter               9\n",
       "Urban          electric_scooter    807\n",
       "               motorcycle         5300\n",
       "               scooter            3410"
      ]
     },
     "execution_count": 10,
     "metadata": {},
     "output_type": "execute_result"
    }
   ],
   "source": [
    "cols = ['ID', 'City', 'Type_of_vehicle']\n",
    "\n",
    "entregas_numero = df.loc[:, cols].groupby(['City', 'Type_of_vehicle']).count()\n",
    "entregas_numero"
   ]
  },
  {
   "cell_type": "code",
   "execution_count": 11,
   "id": "3dc7ab37",
   "metadata": {},
   "outputs": [
    {
     "data": {
      "text/plain": [
       "City            Type_of_vehicle \n",
       "Metropolitian   bicycle             3.333333\n",
       "                electric_scooter    4.635408\n",
       "                motorcycle          4.619287\n",
       "                scooter             4.625782\n",
       "NaN             electric_scooter    4.701136\n",
       "                motorcycle          4.633966\n",
       "                scooter             4.708028\n",
       "Semi-Urban      electric_scooter    4.566667\n",
       "                motorcycle          4.487143\n",
       "                scooter             4.544444\n",
       "Urban           electric_scooter    4.668983\n",
       "                motorcycle          4.656463\n",
       "                scooter             4.685886\n",
       "Name: Delivery_person_Ratings, dtype: float64"
      ]
     },
     "execution_count": 11,
     "metadata": {},
     "output_type": "execute_result"
    }
   ],
   "source": [
    "# Vamos mudar a pergunta pois esta questão foi anulada:\n",
    "# Média, mediana e desvio padrão das avaliações das entregas feitas por cidade e por tipo de veículos\n",
    "cols = ['Delivery_person_Ratings', 'City', 'Type_of_vehicle']\n",
    "media_cidade = df.loc[:, cols].groupby(['City', 'Type_of_vehicle'])['Delivery_person_Ratings'].mean()\n",
    "media_cidade"
   ]
  },
  {
   "cell_type": "code",
   "execution_count": 12,
   "id": "84c8c204",
   "metadata": {},
   "outputs": [
    {
     "data": {
      "text/plain": [
       "City            Type_of_vehicle \n",
       "Metropolitian   bicycle             1.0\n",
       "                electric_scooter    4.7\n",
       "                motorcycle          4.7\n",
       "                scooter             4.7\n",
       "NaN             electric_scooter    4.7\n",
       "                motorcycle          4.7\n",
       "                scooter             4.7\n",
       "Semi-Urban      electric_scooter    4.7\n",
       "                motorcycle          4.6\n",
       "                scooter             4.6\n",
       "Urban           electric_scooter    4.7\n",
       "                motorcycle          4.7\n",
       "                scooter             4.7\n",
       "Name: Delivery_person_Ratings, dtype: float64"
      ]
     },
     "execution_count": 12,
     "metadata": {},
     "output_type": "execute_result"
    }
   ],
   "source": [
    "mediana_cidade = df.loc[:, cols].groupby(['City', 'Type_of_vehicle'])['Delivery_person_Ratings'].median()\n",
    "mediana_cidade"
   ]
  },
  {
   "cell_type": "code",
   "execution_count": 13,
   "id": "98a43724",
   "metadata": {},
   "outputs": [
    {
     "data": {
      "text/plain": [
       "City            Type_of_vehicle \n",
       "Metropolitian   bicycle             2.581989\n",
       "                electric_scooter    0.385926\n",
       "                motorcycle          0.317049\n",
       "                scooter             0.365678\n",
       "NaN             electric_scooter    0.287476\n",
       "                motorcycle          0.289126\n",
       "                scooter             0.255612\n",
       "Semi-Urban      electric_scooter    0.513160\n",
       "                motorcycle          0.365380\n",
       "                scooter             0.360940\n",
       "Urban           electric_scooter    0.444517\n",
       "                motorcycle          0.283246\n",
       "                scooter             0.298215\n",
       "Name: Delivery_person_Ratings, dtype: float64"
      ]
     },
     "execution_count": 13,
     "metadata": {},
     "output_type": "execute_result"
    }
   ],
   "source": [
    "desvio_padrao_cidade = df.loc[:, cols].groupby(['City', 'Type_of_vehicle'])['Delivery_person_Ratings'].std()\n",
    "desvio_padrao_cidade"
   ]
  },
  {
   "cell_type": "markdown",
   "id": "071f493b",
   "metadata": {},
   "source": [
    "### 9. Qual a primeira data de entrega por cada cidade?"
   ]
  },
  {
   "cell_type": "code",
   "execution_count": 14,
   "id": "cccfa7e0",
   "metadata": {},
   "outputs": [
    {
     "data": {
      "text/html": [
       "<div>\n",
       "<style scoped>\n",
       "    .dataframe tbody tr th:only-of-type {\n",
       "        vertical-align: middle;\n",
       "    }\n",
       "\n",
       "    .dataframe tbody tr th {\n",
       "        vertical-align: top;\n",
       "    }\n",
       "\n",
       "    .dataframe thead th {\n",
       "        text-align: right;\n",
       "    }\n",
       "</style>\n",
       "<table border=\"1\" class=\"dataframe\">\n",
       "  <thead>\n",
       "    <tr style=\"text-align: right;\">\n",
       "      <th></th>\n",
       "      <th>Order_Date</th>\n",
       "    </tr>\n",
       "    <tr>\n",
       "      <th>City</th>\n",
       "      <th></th>\n",
       "    </tr>\n",
       "  </thead>\n",
       "  <tbody>\n",
       "    <tr>\n",
       "      <th>Metropolitian</th>\n",
       "      <td>2022-04-06</td>\n",
       "    </tr>\n",
       "    <tr>\n",
       "      <th>NaN</th>\n",
       "      <td>2022-04-06</td>\n",
       "    </tr>\n",
       "    <tr>\n",
       "      <th>Semi-Urban</th>\n",
       "      <td>2022-04-06</td>\n",
       "    </tr>\n",
       "    <tr>\n",
       "      <th>Urban</th>\n",
       "      <td>2022-04-06</td>\n",
       "    </tr>\n",
       "  </tbody>\n",
       "</table>\n",
       "</div>"
      ],
      "text/plain": [
       "               Order_Date\n",
       "City                     \n",
       "Metropolitian  2022-04-06\n",
       "NaN            2022-04-06\n",
       "Semi-Urban     2022-04-06\n",
       "Urban          2022-04-06"
      ]
     },
     "execution_count": 14,
     "metadata": {},
     "output_type": "execute_result"
    }
   ],
   "source": [
    "cols = ['Order_Date', 'City']\n",
    "\n",
    "primeira_data = df.loc[:, cols].groupby(['City']).max()\n",
    "primeira_data"
   ]
  },
  {
   "cell_type": "markdown",
   "id": "6024d2c5",
   "metadata": {},
   "source": [
    "### 10. Qual a última data de entrega por cada cidade?"
   ]
  },
  {
   "cell_type": "code",
   "execution_count": 15,
   "id": "ee2ee731",
   "metadata": {},
   "outputs": [
    {
     "data": {
      "text/html": [
       "<div>\n",
       "<style scoped>\n",
       "    .dataframe tbody tr th:only-of-type {\n",
       "        vertical-align: middle;\n",
       "    }\n",
       "\n",
       "    .dataframe tbody tr th {\n",
       "        vertical-align: top;\n",
       "    }\n",
       "\n",
       "    .dataframe thead th {\n",
       "        text-align: right;\n",
       "    }\n",
       "</style>\n",
       "<table border=\"1\" class=\"dataframe\">\n",
       "  <thead>\n",
       "    <tr style=\"text-align: right;\">\n",
       "      <th></th>\n",
       "      <th>Order_Date</th>\n",
       "    </tr>\n",
       "    <tr>\n",
       "      <th>City</th>\n",
       "      <th></th>\n",
       "    </tr>\n",
       "  </thead>\n",
       "  <tbody>\n",
       "    <tr>\n",
       "      <th>Metropolitian</th>\n",
       "      <td>2022-02-11</td>\n",
       "    </tr>\n",
       "    <tr>\n",
       "      <th>NaN</th>\n",
       "      <td>2022-02-11</td>\n",
       "    </tr>\n",
       "    <tr>\n",
       "      <th>Semi-Urban</th>\n",
       "      <td>2022-02-11</td>\n",
       "    </tr>\n",
       "    <tr>\n",
       "      <th>Urban</th>\n",
       "      <td>2022-02-11</td>\n",
       "    </tr>\n",
       "  </tbody>\n",
       "</table>\n",
       "</div>"
      ],
      "text/plain": [
       "               Order_Date\n",
       "City                     \n",
       "Metropolitian  2022-02-11\n",
       "NaN            2022-02-11\n",
       "Semi-Urban     2022-02-11\n",
       "Urban          2022-02-11"
      ]
     },
     "execution_count": 15,
     "metadata": {},
     "output_type": "execute_result"
    }
   ],
   "source": [
    "ultima_data = df.loc[:, cols].groupby(['City']).min()\n",
    "ultima_data"
   ]
  },
  {
   "cell_type": "markdown",
   "id": "d2c63ebb",
   "metadata": {},
   "source": [
    "### 11. Qual a média de avaliações das entregas feitas por condições climáticas?"
   ]
  },
  {
   "cell_type": "code",
   "execution_count": 16,
   "id": "b66beb62",
   "metadata": {},
   "outputs": [
    {
     "data": {
      "text/html": [
       "<div>\n",
       "<style scoped>\n",
       "    .dataframe tbody tr th:only-of-type {\n",
       "        vertical-align: middle;\n",
       "    }\n",
       "\n",
       "    .dataframe tbody tr th {\n",
       "        vertical-align: top;\n",
       "    }\n",
       "\n",
       "    .dataframe thead th {\n",
       "        text-align: right;\n",
       "    }\n",
       "</style>\n",
       "<table border=\"1\" class=\"dataframe\">\n",
       "  <thead>\n",
       "    <tr style=\"text-align: right;\">\n",
       "      <th></th>\n",
       "      <th>Delivery_person_Ratings</th>\n",
       "    </tr>\n",
       "    <tr>\n",
       "      <th>Weatherconditions</th>\n",
       "      <th></th>\n",
       "    </tr>\n",
       "  </thead>\n",
       "  <tbody>\n",
       "    <tr>\n",
       "      <th>conditions Cloudy</th>\n",
       "      <td>4.652190</td>\n",
       "    </tr>\n",
       "    <tr>\n",
       "      <th>conditions Fog</th>\n",
       "      <td>4.653549</td>\n",
       "    </tr>\n",
       "    <tr>\n",
       "      <th>conditions NaN</th>\n",
       "      <td>3.912088</td>\n",
       "    </tr>\n",
       "    <tr>\n",
       "      <th>conditions Sandstorms</th>\n",
       "      <td>4.613000</td>\n",
       "    </tr>\n",
       "    <tr>\n",
       "      <th>conditions Stormy</th>\n",
       "      <td>4.613369</td>\n",
       "    </tr>\n",
       "    <tr>\n",
       "      <th>conditions Sunny</th>\n",
       "      <td>4.658030</td>\n",
       "    </tr>\n",
       "    <tr>\n",
       "      <th>conditions Windy</th>\n",
       "      <td>4.617804</td>\n",
       "    </tr>\n",
       "  </tbody>\n",
       "</table>\n",
       "</div>"
      ],
      "text/plain": [
       "                       Delivery_person_Ratings\n",
       "Weatherconditions                             \n",
       "conditions Cloudy                     4.652190\n",
       "conditions Fog                        4.653549\n",
       "conditions NaN                        3.912088\n",
       "conditions Sandstorms                 4.613000\n",
       "conditions Stormy                     4.613369\n",
       "conditions Sunny                      4.658030\n",
       "conditions Windy                      4.617804"
      ]
     },
     "execution_count": 16,
     "metadata": {},
     "output_type": "execute_result"
    }
   ],
   "source": [
    "cols = ['Delivery_person_Ratings', 'Weatherconditions']\n",
    "\n",
    "media_entregas_clima = df.loc[:, cols].groupby(['Weatherconditions']).mean()\n",
    "media_entregas_clima"
   ]
  },
  {
   "cell_type": "markdown",
   "id": "c265a4d0",
   "metadata": {},
   "source": [
    "### 12. Qual o valor da avaliação mais baixa feita por tipo de condição climática e por densidade de tráfego?"
   ]
  },
  {
   "cell_type": "code",
   "execution_count": 17,
   "id": "8b003c34",
   "metadata": {},
   "outputs": [
    {
     "data": {
      "text/plain": [
       "Weatherconditions      Road_traffic_density\n",
       "conditions Cloudy      High                    4.0\n",
       "                       Jam                     4.0\n",
       "                       Low                     3.5\n",
       "                       Medium                  4.0\n",
       "conditions Fog         High                    4.0\n",
       "                       Jam                     4.0\n",
       "                       Low                     3.5\n",
       "                       Medium                  4.0\n",
       "conditions NaN         NaN                     1.0\n",
       "conditions Sandstorms  High                    4.0\n",
       "                       Jam                     3.5\n",
       "                       Low                     4.0\n",
       "                       Medium                  3.5\n",
       "conditions Stormy      High                    4.0\n",
       "                       Jam                     3.5\n",
       "                       Low                     4.0\n",
       "                       Medium                  3.5\n",
       "conditions Sunny       High                    3.5\n",
       "                       Jam                     3.5\n",
       "                       Low                     2.5\n",
       "                       Medium                  4.0\n",
       "conditions Windy       High                    4.0\n",
       "                       Jam                     3.5\n",
       "                       Low                     4.0\n",
       "                       Medium                  3.5\n",
       "Name: Delivery_person_Ratings, dtype: float64"
      ]
     },
     "execution_count": 17,
     "metadata": {},
     "output_type": "execute_result"
    }
   ],
   "source": [
    "cols = ['Delivery_person_Ratings', 'Weatherconditions', 'Road_traffic_density']\n",
    "\n",
    "menor_avaliacao = df.loc[:, cols].groupby(['Weatherconditions', 'Road_traffic_density'])['Delivery_person_Ratings'].min()\n",
    "menor_avaliacao"
   ]
  },
  {
   "cell_type": "markdown",
   "id": "b248453a",
   "metadata": {},
   "source": [
    "### 13. Qual a média, mediana e desvio padrão das avaliações por cada tipo de condições de veículos?"
   ]
  },
  {
   "cell_type": "code",
   "execution_count": 18,
   "id": "4297f65e",
   "metadata": {},
   "outputs": [
    {
     "name": "stdout",
     "output_type": "stream",
     "text": [
      "                   Delivery_person_Ratings\n",
      "Vehicle_condition                         \n",
      "0                                 4.609126\n",
      "1                                 4.648569\n",
      "2                                 4.646178\n",
      "3                                 3.912088\n",
      "                   Delivery_person_Ratings\n",
      "Vehicle_condition                         \n",
      "0                                      4.7\n",
      "1                                      4.7\n",
      "2                                      4.7\n",
      "3                                      6.0\n",
      "                   Delivery_person_Ratings\n",
      "Vehicle_condition                         \n",
      "0                                 0.298199\n",
      "1                                 0.320140\n",
      "2                                 0.322822\n",
      "3                                 2.479464\n"
     ]
    }
   ],
   "source": [
    "cols = ['Delivery_person_Ratings', 'Vehicle_condition']\n",
    "\n",
    "media_condicao_veiculos = df.loc[:, cols].groupby(['Vehicle_condition']).mean()\n",
    "mediana_condicao_veiculos = df.loc[:, cols].groupby(['Vehicle_condition']).median()\n",
    "desvio_condicao_veiculos = df.loc[:, cols].groupby(['Vehicle_condition']).std()\n",
    "print(media_condicao_veiculos)\n",
    "print(mediana_condicao_veiculos)\n",
    "print(desvio_condicao_veiculos)"
   ]
  },
  {
   "cell_type": "markdown",
   "id": "e2da2f7e",
   "metadata": {},
   "source": [
    "### 14. Quantas entregas foram feitas no Festival?"
   ]
  },
  {
   "cell_type": "code",
   "execution_count": 21,
   "id": "a367e30f",
   "metadata": {},
   "outputs": [
    {
     "name": "stdout",
     "output_type": "stream",
     "text": [
      "O número de entregas feitas no Festival foram de: 848\n"
     ]
    }
   ],
   "source": [
    "df_festival = df.loc[df['Festival'] == 'Yes ']\n",
    "print(f'O número de entregas feitas no Festival foram de: {df_festival.shape[0]}')"
   ]
  },
  {
   "cell_type": "markdown",
   "id": "7759054a",
   "metadata": {},
   "source": [
    "### 15. Qual a avaliação média das entregas feitas no Festival?"
   ]
  },
  {
   "cell_type": "code",
   "execution_count": 23,
   "id": "dc1d9776",
   "metadata": {},
   "outputs": [
    {
     "data": {
      "text/html": [
       "<div>\n",
       "<style scoped>\n",
       "    .dataframe tbody tr th:only-of-type {\n",
       "        vertical-align: middle;\n",
       "    }\n",
       "\n",
       "    .dataframe tbody tr th {\n",
       "        vertical-align: top;\n",
       "    }\n",
       "\n",
       "    .dataframe thead th {\n",
       "        text-align: right;\n",
       "    }\n",
       "</style>\n",
       "<table border=\"1\" class=\"dataframe\">\n",
       "  <thead>\n",
       "    <tr style=\"text-align: right;\">\n",
       "      <th></th>\n",
       "      <th>Delivery_person_Ratings</th>\n",
       "    </tr>\n",
       "    <tr>\n",
       "      <th>Festival</th>\n",
       "      <th></th>\n",
       "    </tr>\n",
       "  </thead>\n",
       "  <tbody>\n",
       "    <tr>\n",
       "      <th>Yes</th>\n",
       "      <td>4.491509</td>\n",
       "    </tr>\n",
       "  </tbody>\n",
       "</table>\n",
       "</div>"
      ],
      "text/plain": [
       "          Delivery_person_Ratings\n",
       "Festival                         \n",
       "Yes                      4.491509"
      ]
     },
     "execution_count": 23,
     "metadata": {},
     "output_type": "execute_result"
    }
   ],
   "source": [
    "cols = ['Delivery_person_Ratings', 'Festival']\n",
    "\n",
    "media_festival = df_festival.loc[:, cols].groupby(['Festival']).mean()\n",
    "media_festival"
   ]
  },
  {
   "cell_type": "markdown",
   "id": "ed4a7957",
   "metadata": {},
   "source": [
    "### 16. Qual a menor avaliação feita em uma entrega no Festival e por cidade?"
   ]
  },
  {
   "cell_type": "code",
   "execution_count": 25,
   "id": "97b5ba4a",
   "metadata": {},
   "outputs": [
    {
     "data": {
      "text/html": [
       "<div>\n",
       "<style scoped>\n",
       "    .dataframe tbody tr th:only-of-type {\n",
       "        vertical-align: middle;\n",
       "    }\n",
       "\n",
       "    .dataframe tbody tr th {\n",
       "        vertical-align: top;\n",
       "    }\n",
       "\n",
       "    .dataframe thead th {\n",
       "        text-align: right;\n",
       "    }\n",
       "</style>\n",
       "<table border=\"1\" class=\"dataframe\">\n",
       "  <thead>\n",
       "    <tr style=\"text-align: right;\">\n",
       "      <th></th>\n",
       "      <th></th>\n",
       "      <th>Delivery_person_Ratings</th>\n",
       "    </tr>\n",
       "    <tr>\n",
       "      <th>Festival</th>\n",
       "      <th>City</th>\n",
       "      <th></th>\n",
       "    </tr>\n",
       "  </thead>\n",
       "  <tbody>\n",
       "    <tr>\n",
       "      <th rowspan=\"4\" valign=\"top\">Yes</th>\n",
       "      <th>Metropolitian</th>\n",
       "      <td>1.0</td>\n",
       "    </tr>\n",
       "    <tr>\n",
       "      <th>NaN</th>\n",
       "      <td>4.0</td>\n",
       "    </tr>\n",
       "    <tr>\n",
       "      <th>Semi-Urban</th>\n",
       "      <td>3.5</td>\n",
       "    </tr>\n",
       "    <tr>\n",
       "      <th>Urban</th>\n",
       "      <td>2.5</td>\n",
       "    </tr>\n",
       "  </tbody>\n",
       "</table>\n",
       "</div>"
      ],
      "text/plain": [
       "                         Delivery_person_Ratings\n",
       "Festival City                                   \n",
       "Yes      Metropolitian                       1.0\n",
       "         NaN                                 4.0\n",
       "         Semi-Urban                          3.5\n",
       "         Urban                               2.5"
      ]
     },
     "execution_count": 25,
     "metadata": {},
     "output_type": "execute_result"
    }
   ],
   "source": [
    "cols = ['Delivery_person_Ratings', 'Festival', 'City']\n",
    "\n",
    "media_cidade_festival = df_festival.loc[:, cols].groupby(['Festival', 'City']).min()\n",
    "media_cidade_festival"
   ]
  },
  {
   "cell_type": "markdown",
   "id": "2b8732b5",
   "metadata": {},
   "source": [
    "### 17. Qual a maior avaliação feita por tipo de pedido?"
   ]
  },
  {
   "cell_type": "code",
   "execution_count": 30,
   "id": "7ceb2c2f",
   "metadata": {},
   "outputs": [
    {
     "data": {
      "text/html": [
       "<div>\n",
       "<style scoped>\n",
       "    .dataframe tbody tr th:only-of-type {\n",
       "        vertical-align: middle;\n",
       "    }\n",
       "\n",
       "    .dataframe tbody tr th {\n",
       "        vertical-align: top;\n",
       "    }\n",
       "\n",
       "    .dataframe thead th {\n",
       "        text-align: right;\n",
       "    }\n",
       "</style>\n",
       "<table border=\"1\" class=\"dataframe\">\n",
       "  <thead>\n",
       "    <tr style=\"text-align: right;\">\n",
       "      <th></th>\n",
       "      <th>Delivery_person_Ratings</th>\n",
       "    </tr>\n",
       "    <tr>\n",
       "      <th>Type_of_order</th>\n",
       "      <th></th>\n",
       "    </tr>\n",
       "  </thead>\n",
       "  <tbody>\n",
       "    <tr>\n",
       "      <th>Buffet</th>\n",
       "      <td>6.0</td>\n",
       "    </tr>\n",
       "    <tr>\n",
       "      <th>Drinks</th>\n",
       "      <td>6.0</td>\n",
       "    </tr>\n",
       "    <tr>\n",
       "      <th>Meal</th>\n",
       "      <td>6.0</td>\n",
       "    </tr>\n",
       "    <tr>\n",
       "      <th>Snack</th>\n",
       "      <td>6.0</td>\n",
       "    </tr>\n",
       "  </tbody>\n",
       "</table>\n",
       "</div>"
      ],
      "text/plain": [
       "               Delivery_person_Ratings\n",
       "Type_of_order                         \n",
       "Buffet                             6.0\n",
       "Drinks                             6.0\n",
       "Meal                               6.0\n",
       "Snack                              6.0"
      ]
     },
     "execution_count": 30,
     "metadata": {},
     "output_type": "execute_result"
    }
   ],
   "source": [
    "cols = ['Delivery_person_Ratings', 'Type_of_order']\n",
    "\n",
    "maior_avaliacao_pedido = df.loc[:, cols].groupby(['Type_of_order']).max()\n",
    "maior_avaliacao_pedido"
   ]
  },
  {
   "cell_type": "markdown",
   "id": "4f5b5a83",
   "metadata": {},
   "source": [
    "### 18. Qual a idade do entregador mais velho da planilha de dados?"
   ]
  },
  {
   "cell_type": "code",
   "execution_count": 33,
   "id": "d4b010ce",
   "metadata": {},
   "outputs": [
    {
     "data": {
      "text/plain": [
       "50"
      ]
     },
     "execution_count": 33,
     "metadata": {},
     "output_type": "execute_result"
    }
   ],
   "source": [
    "df['Delivery_person_Age'].max()"
   ]
  },
  {
   "cell_type": "markdown",
   "id": "42eff558",
   "metadata": {},
   "source": [
    "### 19. Qual a idade do entregador mais novo da planilha de dados?"
   ]
  },
  {
   "cell_type": "code",
   "execution_count": 34,
   "id": "9370331a",
   "metadata": {},
   "outputs": [
    {
     "data": {
      "text/plain": [
       "15"
      ]
     },
     "execution_count": 34,
     "metadata": {},
     "output_type": "execute_result"
    }
   ],
   "source": [
    "df['Delivery_person_Age'].min()"
   ]
  },
  {
   "cell_type": "markdown",
   "id": "58506c21",
   "metadata": {},
   "source": [
    "### 20. Quantas entregas foram feitas em cada condição climática?"
   ]
  },
  {
   "cell_type": "code",
   "execution_count": 37,
   "id": "1bc5f12d",
   "metadata": {},
   "outputs": [],
   "source": [
    "cols = ['ID', 'Weatherconditions']\n",
    "\n",
    "entregas_condicoes_climaticas = df.loc[:, cols].groupby(['Weatherconditions']).count()\n",
    "\n",
    "entrega"
   ]
  },
  {
   "cell_type": "markdown",
   "id": "f9d45d9a",
   "metadata": {},
   "source": []
  }
 ],
 "metadata": {
  "kernelspec": {
   "display_name": "Python 3 (ipykernel)",
   "language": "python",
   "name": "python3"
  },
  "language_info": {
   "codemirror_mode": {
    "name": "ipython",
    "version": 3
   },
   "file_extension": ".py",
   "mimetype": "text/x-python",
   "name": "python",
   "nbconvert_exporter": "python",
   "pygments_lexer": "ipython3",
   "version": "3.10.9"
  }
 },
 "nbformat": 4,
 "nbformat_minor": 5
}
