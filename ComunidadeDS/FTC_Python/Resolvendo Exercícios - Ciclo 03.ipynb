{
 "cells": [
  {
   "cell_type": "markdown",
   "id": "a4994bf7",
   "metadata": {},
   "source": [
    "Exercício 01"
   ]
  },
  {
   "cell_type": "code",
   "execution_count": 1,
   "id": "dd62fb1c",
   "metadata": {},
   "outputs": [
    {
     "name": "stdout",
     "output_type": "stream",
     "text": [
      "[20, 21, 433, 2044, 144, 21, 13, 33, 44, 768, 19, 20, 24, 12, 422, 44, 133, 4142, 14, 22, 3422, 44, 22, 34142, 51, 244, 11, 33, 14, 22, 13, 51, 12, 4133]\n"
     ]
    }
   ],
   "source": [
    "numeros = [10, 11, 423, 2034, 134, 11, 3, 23, 34, 758, 9, 10, 14, 2, 412,34, 123,\n",
    "4132, 4, 12, 3412, 34, 12, 34132, 41, 234, 1, 23,4, 12, 3, 41, 2, 4123]\n",
    "novos_numeros = []\n",
    "\n",
    "for num in numeros:\n",
    "    novos_numeros.append(num + 10)\n",
    "print(novos_numeros)"
   ]
  },
  {
   "cell_type": "markdown",
   "id": "002cc761",
   "metadata": {},
   "source": [
    "Exercício 02"
   ]
  },
  {
   "cell_type": "code",
   "execution_count": 19,
   "id": "151fb6c7",
   "metadata": {},
   "outputs": [
    {
     "name": "stdout",
     "output_type": "stream",
     "text": [
      "[20, 220, 211.5, 1017.0, 67.0, 220, 13, 460, 680, 379.0, 19, 20, 280, 12, 206.0, 680, 61.5, 2066.0, 14, 240, 1706.0, 680, 240, 17066.0, 820, 117.0, 11, 460, 14, 240, 13, 820, 12, 2061.5]\n"
     ]
    }
   ],
   "source": [
    "novos_numeros2 = []\n",
    "for num in numeros:\n",
    "    if num<=10:\n",
    "        novos_numeros2.append(num + 10)\n",
    "    elif num<=50:\n",
    "        novos_numeros2.append(num * 20)\n",
    "    elif num<=100:\n",
    "        novos_numeros2.append(num - 30)\n",
    "    else:\n",
    "        novos_numeros2.append(num/2)\n",
    "print(novos_numeros2)"
   ]
  },
  {
   "cell_type": "markdown",
   "id": "01d5cd92",
   "metadata": {},
   "source": [
    "Exercício 03"
   ]
  },
  {
   "cell_type": "code",
   "execution_count": 18,
   "id": "14b409fc",
   "metadata": {},
   "outputs": [
    {
     "name": "stdout",
     "output_type": "stream",
     "text": [
      "Um valor foi removido da lista\n",
      "1\n",
      "Um valor foi removido da lista\n",
      "2\n",
      "Um valor foi removido da lista\n",
      "3\n",
      "Um valor foi removido da lista\n",
      "4\n",
      "Um valor foi removido da lista\n",
      "5\n",
      "Um valor foi removido da lista\n",
      "6\n",
      "Um valor foi removido da lista\n",
      "7\n",
      "Um valor foi removido da lista\n",
      "8\n",
      "Um valor foi removido da lista\n",
      "9\n",
      "Um valor foi removido da lista\n",
      "10\n",
      "Um valor foi removido da lista\n",
      "11\n",
      "Um valor foi removido da lista\n",
      "12\n",
      "Um valor foi removido da lista\n",
      "13\n",
      "Um valor foi removido da lista\n",
      "14\n",
      "Um valor foi removido da lista\n",
      "15\n",
      "Um valor foi removido da lista\n",
      "16\n",
      "Um valor foi removido da lista\n",
      "17\n",
      "Um valor foi removido da lista\n",
      "18\n",
      "Um valor foi removido da lista\n",
      "19\n",
      "Um valor foi removido da lista\n",
      "20\n",
      "Um valor foi removido da lista\n",
      "21\n",
      "Um valor foi removido da lista\n",
      "22\n",
      "Um valor foi removido da lista\n",
      "23\n",
      "Um valor foi removido da lista\n",
      "24\n",
      "Um valor foi removido da lista\n",
      "25\n",
      "Um valor foi removido da lista\n",
      "26\n",
      "Um valor foi removido da lista\n",
      "27\n",
      "Um valor foi removido da lista\n",
      "28\n",
      "Um valor foi removido da lista\n",
      "29\n",
      "Um valor foi removido da lista\n",
      "30\n",
      "Um valor foi removido da lista\n",
      "31\n",
      "Um valor foi removido da lista\n",
      "32\n",
      "Um valor foi removido da lista\n",
      "33\n",
      "Um valor foi removido da lista\n",
      "34\n",
      "Um valor foi removido da lista\n",
      "35\n",
      "Um valor foi removido da lista\n",
      "36\n",
      "Um valor foi removido da lista\n",
      "37\n",
      "Um valor foi removido da lista\n",
      "38\n",
      "Um valor foi removido da lista\n",
      "39\n",
      "Um valor foi removido da lista\n",
      "40\n",
      "Um valor foi removido da lista\n",
      "41\n",
      "Um valor foi removido da lista\n",
      "42\n",
      "Um valor foi removido da lista\n",
      "43\n",
      "Um valor foi removido da lista\n",
      "44\n",
      "Um valor foi removido da lista\n",
      "45\n",
      "Um valor foi removido da lista\n",
      "46\n",
      "Um valor foi removido da lista\n",
      "47\n",
      "Um valor foi removido da lista\n",
      "48\n",
      "Um valor foi removido da lista\n",
      "49\n",
      "Um valor foi removido da lista\n",
      "50\n",
      "Um valor foi removido da lista\n",
      "51\n",
      "Um valor foi removido da lista\n",
      "52\n"
     ]
    }
   ],
   "source": [
    "count = 0;\n",
    "lista = []\n",
    "for x in range(52):\n",
    "    print(\"Um valor foi removido da lista\")\n",
    "    lista.append(x)\n",
    "    print(x+1)"
   ]
  },
  {
   "cell_type": "code",
   "execution_count": null,
   "id": "3c873472",
   "metadata": {},
   "outputs": [],
   "source": []
  }
 ],
 "metadata": {
  "kernelspec": {
   "display_name": "Python 3 (ipykernel)",
   "language": "python",
   "name": "python3"
  },
  "language_info": {
   "codemirror_mode": {
    "name": "ipython",
    "version": 3
   },
   "file_extension": ".py",
   "mimetype": "text/x-python",
   "name": "python",
   "nbconvert_exporter": "python",
   "pygments_lexer": "ipython3",
   "version": "3.10.9"
  }
 },
 "nbformat": 4,
 "nbformat_minor": 5
}
