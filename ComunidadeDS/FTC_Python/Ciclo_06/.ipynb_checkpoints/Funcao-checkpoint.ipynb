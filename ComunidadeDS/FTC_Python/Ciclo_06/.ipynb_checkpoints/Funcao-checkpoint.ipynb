{
 "cells": [
  {
   "cell_type": "markdown",
   "id": "f5d0cd6b-46d8-4dc4-8c58-532e352573d2",
   "metadata": {},
   "source": [
    "# O conceito de Função"
   ]
  },
  {
   "cell_type": "code",
   "execution_count": null,
   "id": "da9c767a-b7b0-48b6-8883-c7317f784c6b",
   "metadata": {},
   "outputs": [],
   "source": []
  }
 ],
 "metadata": {
  "kernelspec": {
   "display_name": "Python 3 (ipykernel)",
   "language": "python",
   "name": "python3"
  },
  "language_info": {
   "codemirror_mode": {
    "name": "ipython",
    "version": 3
   },
   "file_extension": ".py",
   "mimetype": "text/x-python",
   "name": "python",
   "nbconvert_exporter": "python",
   "pygments_lexer": "ipython3",
   "version": "3.10.9"
  }
 },
 "nbformat": 4,
 "nbformat_minor": 5
}
