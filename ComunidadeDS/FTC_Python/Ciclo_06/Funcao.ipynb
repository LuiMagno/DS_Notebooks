{
 "cells": [
  {
   "cell_type": "markdown",
   "id": "f5d0cd6b-46d8-4dc4-8c58-532e352573d2",
   "metadata": {},
   "source": [
    "# O conceito de Função"
   ]
  },
  {
   "cell_type": "markdown",
   "id": "dcf9493a-1eea-43c8-b043-0d2367c386a0",
   "metadata": {},
   "source": [
    "Uma função é um bloco de código que serve para uma determinada tarefa. Seu uso ajuda no desenvolvimento de códigos mais práticos, automatizados, organizados e reutilizáveis em qualquer parte do script Python."
   ]
  },
  {
   "cell_type": "markdown",
   "id": "ca0bf7ed-43c6-478e-b8e6-3e9f4d107eb1",
   "metadata": {},
   "source": [
    "## A sintaxe de uma função"
   ]
  },
  {
   "cell_type": "markdown",
   "id": "0568e1f5-ed3d-4744-a4d5-aeb9719f6451",
   "metadata": {},
   "source": [
    "Toda função **recebe ou não parâmetros ou dados de entrada** e retornam alguma ou nenhuma saída. Os dados ou parâmetros de entrada **sofrem modificaçÕes dentro da fun\n",
    "ção** e os valores resultantes são retornados para o código que requisitou aquela função."
   ]
  },
  {
   "cell_type": "code",
   "execution_count": 1,
   "id": "fb0a7226-a3e5-42ee-9510-15a3d1da22a4",
   "metadata": {
    "tags": []
   },
   "outputs": [],
   "source": [
    "# Entrada -> Processo -> Saída\n",
    "\n",
    "# Definição de uma função em Python\n",
    "def nome_da_funcao(a, b):\n",
    "    # linha de código\n",
    "     # linha de código\n",
    "         # linha de código\n",
    "             # linha de código\n",
    "                 # linha de código\n",
    "    return resultado"
   ]
  },
  {
   "cell_type": "markdown",
   "id": "ce08793c-bc50-4a7a-b32d-563b2ad48d57",
   "metadata": {},
   "source": [
    "**def** -> Palavra reservada que indica o início da função\n",
    "\n",
    "**nome_da_funcao** -> Nome utilizado para identificar a função\n",
    "\n",
    "**(a, b)** -> São os parâmetros ou dados de entrada da função\n",
    "\n",
    "**return** -> Palavra reservada que indica o fim/retorno da função"
   ]
  },
  {
   "cell_type": "code",
   "execution_count": null,
   "id": "fb0d63ee-acc3-44c2-8bb5-4667d2233b6c",
   "metadata": {},
   "outputs": [],
   "source": []
  }
 ],
 "metadata": {
  "kernelspec": {
   "display_name": "Python 3 (ipykernel)",
   "language": "python",
   "name": "python3"
  },
  "language_info": {
   "codemirror_mode": {
    "name": "ipython",
    "version": 3
   },
   "file_extension": ".py",
   "mimetype": "text/x-python",
   "name": "python",
   "nbconvert_exporter": "python",
   "pygments_lexer": "ipython3",
   "version": "3.11.5"
  }
 },
 "nbformat": 4,
 "nbformat_minor": 5
}
