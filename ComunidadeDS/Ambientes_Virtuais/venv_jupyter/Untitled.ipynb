{
 "cells": [
  {
   "cell_type": "code",
   "execution_count": 1,
   "id": "161b2aed-59ac-4e99-8766-2d0f54adbe77",
   "metadata": {},
   "outputs": [
    {
     "name": "stdout",
     "output_type": "stream",
     "text": [
      "\n",
      "\tpython version is 3.11.5\n",
      "\n"
     ]
    }
   ],
   "source": [
    "# import required libraries\n",
    "from platform import python_version\n",
    "# print python version\n",
    "print(\n",
    "f\"\\n\\tpython version is {python_version()}\\n\"\n",
    ")\n"
   ]
  }
 ],
 "metadata": {
  "kernelspec": {
   "display_name": "Python 3 (ipykernel)",
   "language": "python",
   "name": "python3"
  },
  "language_info": {
   "codemirror_mode": {
    "name": "ipython",
    "version": 3
   },
   "file_extension": ".py",
   "mimetype": "text/x-python",
   "name": "python",
   "nbconvert_exporter": "python",
   "pygments_lexer": "ipython3",
   "version": "3.11.5"
  }
 },
 "nbformat": 4,
 "nbformat_minor": 5
}
